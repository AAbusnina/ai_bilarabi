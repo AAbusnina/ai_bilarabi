{
 "cells": [
  {
   "cell_type": "markdown",
   "metadata": {},
   "source": [
    "# Diagnosis of COVID-19 Virus using IncpetionV3"
   ]
  },
  {
   "cell_type": "markdown",
   "metadata": {},
   "source": [
    "### Import Packages"
   ]
  },
  {
   "cell_type": "code",
   "execution_count": 1,
   "metadata": {},
   "outputs": [
    {
     "data": {
      "text/html": [
       "        <script type=\"text/javascript\">\n",
       "        window.PlotlyConfig = {MathJaxConfig: 'local'};\n",
       "        if (window.MathJax) {MathJax.Hub.Config({SVG: {font: \"STIX-Web\"}});}\n",
       "        if (typeof require !== 'undefined') {\n",
       "        require.undef(\"plotly\");\n",
       "        requirejs.config({\n",
       "            paths: {\n",
       "                'plotly': ['https://cdn.plot.ly/plotly-latest.min']\n",
       "            }\n",
       "        });\n",
       "        require(['plotly'], function(Plotly) {\n",
       "            window._Plotly = Plotly;\n",
       "        });\n",
       "        }\n",
       "        </script>\n",
       "        "
      ]
     },
     "metadata": {},
     "output_type": "display_data"
    },
    {
     "data": {
      "text/html": [
       "        <script type=\"text/javascript\">\n",
       "        window.PlotlyConfig = {MathJaxConfig: 'local'};\n",
       "        if (window.MathJax) {MathJax.Hub.Config({SVG: {font: \"STIX-Web\"}});}\n",
       "        if (typeof require !== 'undefined') {\n",
       "        require.undef(\"plotly\");\n",
       "        requirejs.config({\n",
       "            paths: {\n",
       "                'plotly': ['https://cdn.plot.ly/plotly-latest.min']\n",
       "            }\n",
       "        });\n",
       "        require(['plotly'], function(Plotly) {\n",
       "            window._Plotly = Plotly;\n",
       "        });\n",
       "        }\n",
       "        </script>\n",
       "        "
      ]
     },
     "metadata": {},
     "output_type": "display_data"
    }
   ],
   "source": [
    "# import the necessary packages\n",
    "from tensorflow.keras.preprocessing.image import ImageDataGenerator\n",
    "from tensorflow.keras.applications import VGG16\n",
    "from tensorflow.keras.layers import AveragePooling2D\n",
    "from tensorflow.keras.layers import Dropout\n",
    "from tensorflow.keras.layers import Flatten\n",
    "from tensorflow.keras.layers import Dense\n",
    "from tensorflow.keras.layers import Input\n",
    "from tensorflow.keras.models import Model\n",
    "from tensorflow.keras.optimizers import Adam\n",
    "from tensorflow.keras.utils import to_categorical\n",
    "from sklearn.preprocessing import LabelBinarizer\n",
    "from sklearn.model_selection import train_test_split\n",
    "from sklearn.metrics import classification_report\n",
    "from tensorflow.keras.optimizers import RMSprop\n",
    "from sklearn.metrics import confusion_matrix\n",
    "from imutils import paths\n",
    "import tensorflow as tf\n",
    "import matplotlib.pyplot as plt\n",
    "import numpy as np\n",
    "import argparse\n",
    "import cv2\n",
    "import os\n",
    "import pandas as pd\n",
    "import cufflinks as cf\n",
    "cf.go_offline()"
   ]
  },
  {
   "cell_type": "markdown",
   "metadata": {},
   "source": [
    "### Set up the path to data and model"
   ]
  },
  {
   "cell_type": "code",
   "execution_count": 51,
   "metadata": {},
   "outputs": [],
   "source": [
    "path_to_data = \"/Users/abusnina/Documents/Training/COVID_19/dataset\"\n",
    "path_to_inceptionV3_model = \"/Users/abusnina/Documents/Training/COVID_19/\""
   ]
  },
  {
   "cell_type": "code",
   "execution_count": null,
   "metadata": {},
   "outputs": [],
   "source": []
  },
  {
   "cell_type": "code",
   "execution_count": 52,
   "metadata": {},
   "outputs": [],
   "source": [
    "# initialize the initial learning rate, number of epochs to train for, and batch size\n",
    "INIT_LR = 1e-3\n",
    "EPOCHS = 100\n",
    "BS = 10"
   ]
  },
  {
   "cell_type": "markdown",
   "metadata": {},
   "source": [
    "### Load Data"
   ]
  },
  {
   "cell_type": "code",
   "execution_count": 53,
   "metadata": {},
   "outputs": [
    {
     "name": "stdout",
     "output_type": "stream",
     "text": [
      "[INFO] loading images...\n"
     ]
    }
   ],
   "source": [
    "\n",
    "imagePaths = list(paths.list_images(path_to_data))\n",
    "data = []\n",
    "labels = []\n",
    "# loop over the image paths\n",
    "for imagePath in imagePaths:\n",
    "    # extract the class label from the filename\n",
    "    label = imagePath.split(os.path.sep)[-2]\n",
    "    # load the image, swap color channels, and resize it to be a fixed\n",
    "    # 224x224 pixels while ignoring aspect ratio\n",
    "    image = cv2.imread(imagePath)\n",
    "    image = cv2.cvtColor(image, cv2.COLOR_BGR2RGB)\n",
    "    image = cv2.resize(image, (224, 224))\n",
    "    # update the data and labels lists, respectively\n",
    "    data.append(image)\n",
    "    labels.append(label)\n",
    "# convert the data and labels to NumPy arrays while scaling the pixel\n",
    "# intensities to the range [0, 1]\n",
    "data = np.array(data) / 255.0\n",
    "labels = np.array(labels)\n"
   ]
  },
  {
   "cell_type": "markdown",
   "metadata": {},
   "source": [
    "### One-hot encoding and Generator"
   ]
  },
  {
   "cell_type": "code",
   "execution_count": 55,
   "metadata": {},
   "outputs": [],
   "source": [
    "# perform one-hot encoding on the labels\n",
    "lb = LabelBinarizer()\n",
    "labels = lb.fit_transform(labels)\n",
    "labels = to_categorical(labels)\n",
    "# partition the data into training and testing splits using 80% of\n",
    "# the data for training and the remaining 20% for testing\n",
    "(trainX, testX, trainY, testY) = train_test_split(data, labels, test_size=0.20, stratify=labels, random_state=42)\n",
    "# initialize the training data augmentation object\n",
    "trainAug = ImageDataGenerator(rotation_range=15, \n",
    "                                   width_shift_range = 0.2,\n",
    "                                   height_shift_range = 0.2,\n",
    "                                   shear_range = 0.2,\n",
    "                                   zoom_range = 0.2,\n",
    "                                   horizontal_flip = True, fill_mode=\"nearest\")"
   ]
  },
  {
   "cell_type": "markdown",
   "metadata": {},
   "source": [
    "### Transfer Learning based on InceptionV3"
   ]
  },
  {
   "cell_type": "code",
   "execution_count": 70,
   "metadata": {},
   "outputs": [],
   "source": [
    "from tensorflow.keras.applications.inception_v3 import InceptionV3"
   ]
  },
  {
   "cell_type": "code",
   "execution_count": 71,
   "metadata": {},
   "outputs": [
    {
     "name": "stdout",
     "output_type": "stream",
     "text": [
      "last layer output shape:  (None, 12, 12, 768)\n"
     ]
    }
   ],
   "source": [
    "local_weights_file = path_to_inceptionV3_model + 'inception_v3_weights_tf_dim_ordering_tf_kernels_notop.h5'\n",
    "pre_trained_model = InceptionV3(input_shape = (224, 224, 3),  include_top = False,  weights = None)\n",
    "pre_trained_model.load_weights(local_weights_file)\n",
    "# pre_trained_model.summary()\n",
    "last_layer = pre_trained_model.get_layer('mixed7')\n",
    "print('last layer output shape: ', last_layer.output_shape)\n",
    "last_output = last_layer.output"
   ]
  },
  {
   "cell_type": "code",
   "execution_count": 72,
   "metadata": {},
   "outputs": [],
   "source": [
    "last_output = AveragePooling2D(pool_size=(4, 4))(last_output)\n",
    "# Flatten the output layer to 1 dimension\n",
    "x = Flatten()(last_output)\n",
    "# Add a fully connected layer with 1,024 hidden units and ReLU activation\n",
    "x = Dense(64, activation='relu')(x)\n",
    "# Add a dropout rate of 0.2\n",
    "x = Dropout(0.5)(x)                  \n",
    "# Add a final sigmoid layer for classification\n",
    "x = Dense  (2, activation='softmax')(x)  \n",
    "\n",
    "model = Model( pre_trained_model.input, x) \n",
    "for layer in pre_trained_model.layers:\n",
    "    layer.trainable = False\n",
    "\n",
    "    #opt = Adam(lr=INIT_LR, decay=INIT_LR / EPOCHS)\n",
    "#opt = RMSprop(lr=0.001) #, rho=0.9, epsilon=1e-08, decay=0.0)  \n",
    "\n",
    "model.compile(optimizer = RMSprop(lr=0.0001, decay=0.0001 / 100), \n",
    "              loss = 'binary_crossentropy', \n",
    "              metrics = ['acc'])\n",
    "\n"
   ]
  },
  {
   "cell_type": "code",
   "execution_count": 73,
   "metadata": {},
   "outputs": [
    {
     "name": "stdout",
     "output_type": "stream",
     "text": [
      "[INFO] training head...\n",
      "Epoch 1/100\n",
      "15/15 [==============================] - 91s 6s/step - loss: 0.6220 - acc: 0.6443 - val_loss: 0.5715 - val_acc: 0.8750\n",
      "Epoch 2/100\n",
      "15/15 [==============================] - 91s 6s/step - loss: 0.5647 - acc: 0.7315 - val_loss: 0.5384 - val_acc: 0.7000\n",
      "Epoch 3/100\n",
      "15/15 [==============================] - 92s 6s/step - loss: 0.4898 - acc: 0.8456 - val_loss: 0.5473 - val_acc: 0.5750\n",
      "Epoch 4/100\n",
      "15/15 [==============================] - 92s 6s/step - loss: 0.4471 - acc: 0.8400 - val_loss: 0.4081 - val_acc: 0.8250\n",
      "Epoch 5/100\n",
      "15/15 [==============================] - 92s 6s/step - loss: 0.4449 - acc: 0.8581 - val_loss: 0.3556 - val_acc: 0.8000\n",
      "Epoch 6/100\n",
      "15/15 [==============================] - 98s 7s/step - loss: 0.3873 - acc: 0.9060 - val_loss: 0.3584 - val_acc: 0.7750\n",
      "Epoch 7/100\n",
      "15/15 [==============================] - 97s 6s/step - loss: 0.3524 - acc: 0.9262 - val_loss: 0.3106 - val_acc: 0.8500\n",
      "Epoch 8/100\n",
      "15/15 [==============================] - 92s 6s/step - loss: 0.3293 - acc: 0.9060 - val_loss: 0.2807 - val_acc: 0.8750\n",
      "Epoch 9/100\n",
      "15/15 [==============================] - 93s 6s/step - loss: 0.2985 - acc: 0.9133 - val_loss: 0.2131 - val_acc: 0.9750\n",
      "Epoch 10/100\n",
      "15/15 [==============================] - 92s 6s/step - loss: 0.3479 - acc: 0.8649 - val_loss: 0.3279 - val_acc: 0.7750\n",
      "Epoch 11/100\n",
      "15/15 [==============================] - 93s 6s/step - loss: 0.3327 - acc: 0.8800 - val_loss: 0.2789 - val_acc: 0.8250\n",
      "Epoch 12/100\n",
      "15/15 [==============================] - 92s 6s/step - loss: 0.2726 - acc: 0.9262 - val_loss: 0.2998 - val_acc: 0.8000\n",
      "Epoch 13/100\n",
      "15/15 [==============================] - 91s 6s/step - loss: 0.2446 - acc: 0.9392 - val_loss: 0.1850 - val_acc: 0.9500\n",
      "Epoch 14/100\n",
      "15/15 [==============================] - 93s 6s/step - loss: 0.2543 - acc: 0.9467 - val_loss: 0.2596 - val_acc: 0.8500\n",
      "Epoch 15/100\n",
      "15/15 [==============================] - 92s 6s/step - loss: 0.1950 - acc: 0.9463 - val_loss: 0.2019 - val_acc: 0.9250\n",
      "Epoch 16/100\n",
      "15/15 [==============================] - 93s 6s/step - loss: 0.2390 - acc: 0.9060 - val_loss: 0.2356 - val_acc: 0.8750\n",
      "Epoch 17/100\n",
      "15/15 [==============================] - 92s 6s/step - loss: 0.2238 - acc: 0.9262 - val_loss: 0.2094 - val_acc: 0.9000\n",
      "Epoch 18/100\n",
      "15/15 [==============================] - 93s 6s/step - loss: 0.2032 - acc: 0.9463 - val_loss: 0.1739 - val_acc: 0.9500\n",
      "Epoch 19/100\n",
      "15/15 [==============================] - 93s 6s/step - loss: 0.2233 - acc: 0.9262 - val_loss: 0.2097 - val_acc: 0.9250\n",
      "Epoch 20/100\n",
      "15/15 [==============================] - 96s 6s/step - loss: 0.1968 - acc: 0.9530 - val_loss: 0.1512 - val_acc: 0.9500\n",
      "Epoch 21/100\n",
      "15/15 [==============================] - 93s 6s/step - loss: 0.1409 - acc: 0.9667 - val_loss: 0.1052 - val_acc: 0.9750\n",
      "Epoch 22/100\n",
      "15/15 [==============================] - 92s 6s/step - loss: 0.1872 - acc: 0.9527 - val_loss: 0.1675 - val_acc: 0.9250\n",
      "Epoch 23/100\n",
      "15/15 [==============================] - 96s 6s/step - loss: 0.1574 - acc: 0.9597 - val_loss: 0.1048 - val_acc: 0.9750\n",
      "Epoch 24/100\n",
      "15/15 [==============================] - 94s 6s/step - loss: 0.1660 - acc: 0.9333 - val_loss: 0.0983 - val_acc: 0.9750\n",
      "Epoch 25/100\n",
      "15/15 [==============================] - 92s 6s/step - loss: 0.1642 - acc: 0.9396 - val_loss: 0.1129 - val_acc: 0.9750\n",
      "Epoch 26/100\n",
      "15/15 [==============================] - 92s 6s/step - loss: 0.1198 - acc: 0.9799 - val_loss: 0.1593 - val_acc: 0.9250\n",
      "Epoch 27/100\n",
      "15/15 [==============================] - 91s 6s/step - loss: 0.1310 - acc: 0.9730 - val_loss: 0.0892 - val_acc: 0.9750\n",
      "Epoch 28/100\n",
      "15/15 [==============================] - 93s 6s/step - loss: 0.1698 - acc: 0.9333 - val_loss: 0.1697 - val_acc: 0.9250\n",
      "Epoch 29/100\n",
      "15/15 [==============================] - 92s 6s/step - loss: 0.1410 - acc: 0.9732 - val_loss: 0.1203 - val_acc: 0.9500\n",
      "Epoch 30/100\n",
      "15/15 [==============================] - 92s 6s/step - loss: 0.1055 - acc: 0.9732 - val_loss: 0.0894 - val_acc: 1.0000\n",
      "Epoch 31/100\n",
      "15/15 [==============================] - 92s 6s/step - loss: 0.1010 - acc: 0.9866 - val_loss: 0.1188 - val_acc: 0.9500\n",
      "Epoch 32/100\n",
      "15/15 [==============================] - 92s 6s/step - loss: 0.1408 - acc: 0.9664 - val_loss: 0.0924 - val_acc: 0.9750\n",
      "Epoch 33/100\n",
      "15/15 [==============================] - 92s 6s/step - loss: 0.1048 - acc: 0.9799 - val_loss: 0.1003 - val_acc: 0.9750\n",
      "Epoch 34/100\n",
      "15/15 [==============================] - 92s 6s/step - loss: 0.1230 - acc: 0.9600 - val_loss: 0.0838 - val_acc: 1.0000\n",
      "Epoch 35/100\n",
      "15/15 [==============================] - 92s 6s/step - loss: 0.0911 - acc: 0.9799 - val_loss: 0.1204 - val_acc: 0.9500\n",
      "Epoch 36/100\n",
      "15/15 [==============================] - 93s 6s/step - loss: 0.1015 - acc: 0.9664 - val_loss: 0.0748 - val_acc: 1.0000\n",
      "Epoch 37/100\n",
      "15/15 [==============================] - 92s 6s/step - loss: 0.1049 - acc: 0.9662 - val_loss: 0.0781 - val_acc: 1.0000\n",
      "Epoch 38/100\n",
      "15/15 [==============================] - 92s 6s/step - loss: 0.0875 - acc: 0.9732 - val_loss: 0.0741 - val_acc: 1.0000\n",
      "Epoch 39/100\n",
      "15/15 [==============================] - 93s 6s/step - loss: 0.1370 - acc: 0.9600 - val_loss: 0.1095 - val_acc: 0.9500\n",
      "Epoch 40/100\n",
      "15/15 [==============================] - 92s 6s/step - loss: 0.1394 - acc: 0.9730 - val_loss: 0.0789 - val_acc: 1.0000\n",
      "Epoch 41/100\n",
      "15/15 [==============================] - 93s 6s/step - loss: 0.1243 - acc: 0.9667 - val_loss: 0.0963 - val_acc: 0.9750\n",
      "Epoch 42/100\n",
      "15/15 [==============================] - 92s 6s/step - loss: 0.1033 - acc: 0.9664 - val_loss: 0.1101 - val_acc: 0.9500\n",
      "Epoch 43/100\n",
      "15/15 [==============================] - 92s 6s/step - loss: 0.0652 - acc: 0.9799 - val_loss: 0.0626 - val_acc: 0.9750\n",
      "Epoch 44/100\n",
      "15/15 [==============================] - 92s 6s/step - loss: 0.0794 - acc: 0.9799 - val_loss: 0.1188 - val_acc: 0.9250\n",
      "Epoch 45/100\n",
      "15/15 [==============================] - 92s 6s/step - loss: 0.0623 - acc: 1.0000 - val_loss: 0.0825 - val_acc: 0.9750\n",
      "Epoch 46/100\n",
      "15/15 [==============================] - 92s 6s/step - loss: 0.0592 - acc: 0.9797 - val_loss: 0.0899 - val_acc: 0.9750\n",
      "Epoch 47/100\n",
      "15/15 [==============================] - 93s 6s/step - loss: 0.0938 - acc: 0.9800 - val_loss: 0.0816 - val_acc: 0.9750\n",
      "Epoch 48/100\n",
      "15/15 [==============================] - 92s 6s/step - loss: 0.0866 - acc: 0.9799 - val_loss: 0.0590 - val_acc: 1.0000\n",
      "Epoch 49/100\n",
      "15/15 [==============================] - 92s 6s/step - loss: 0.1393 - acc: 0.9530 - val_loss: 0.0632 - val_acc: 1.0000\n",
      "Epoch 50/100\n",
      "15/15 [==============================] - 93s 6s/step - loss: 0.0678 - acc: 0.9867 - val_loss: 0.0592 - val_acc: 1.0000\n",
      "Epoch 51/100\n",
      "15/15 [==============================] - 92s 6s/step - loss: 0.1020 - acc: 0.9730 - val_loss: 0.0686 - val_acc: 1.0000\n",
      "Epoch 52/100\n",
      "15/15 [==============================] - 92s 6s/step - loss: 0.0651 - acc: 0.9933 - val_loss: 0.0707 - val_acc: 0.9750\n",
      "Epoch 53/100\n",
      "15/15 [==============================] - 92s 6s/step - loss: 0.1070 - acc: 0.9664 - val_loss: 0.0570 - val_acc: 1.0000\n",
      "Epoch 54/100\n",
      "15/15 [==============================] - 92s 6s/step - loss: 0.0635 - acc: 0.9733 - val_loss: 0.0545 - val_acc: 1.0000\n",
      "Epoch 55/100\n",
      "15/15 [==============================] - 92s 6s/step - loss: 0.0799 - acc: 0.9799 - val_loss: 0.0555 - val_acc: 0.9750\n",
      "Epoch 56/100\n",
      "15/15 [==============================] - 92s 6s/step - loss: 0.0965 - acc: 0.9662 - val_loss: 0.0544 - val_acc: 1.0000\n",
      "Epoch 57/100\n",
      "15/15 [==============================] - 92s 6s/step - loss: 0.0387 - acc: 0.9933 - val_loss: 0.0607 - val_acc: 1.0000\n",
      "Epoch 58/100\n",
      "15/15 [==============================] - 92s 6s/step - loss: 0.1068 - acc: 0.9597 - val_loss: 0.0515 - val_acc: 0.9750\n",
      "Epoch 59/100\n",
      "15/15 [==============================] - 93s 6s/step - loss: 0.0721 - acc: 0.9732 - val_loss: 0.0569 - val_acc: 0.9750\n",
      "Epoch 60/100\n",
      "15/15 [==============================] - 92s 6s/step - loss: 0.1232 - acc: 0.9463 - val_loss: 0.0780 - val_acc: 0.9750\n",
      "Epoch 61/100\n",
      "15/15 [==============================] - 92s 6s/step - loss: 0.1035 - acc: 0.9732 - val_loss: 0.0550 - val_acc: 0.9750\n",
      "Epoch 62/100\n",
      "15/15 [==============================] - 92s 6s/step - loss: 0.0932 - acc: 0.9664 - val_loss: 0.0518 - val_acc: 0.9750\n",
      "Epoch 63/100\n",
      "15/15 [==============================] - 92s 6s/step - loss: 0.1079 - acc: 0.9664 - val_loss: 0.0596 - val_acc: 1.0000\n",
      "Epoch 64/100\n",
      "15/15 [==============================] - 93s 6s/step - loss: 0.0851 - acc: 0.9866 - val_loss: 0.0603 - val_acc: 1.0000\n",
      "Epoch 65/100\n",
      "15/15 [==============================] - 92s 6s/step - loss: 0.0770 - acc: 0.9664 - val_loss: 0.0564 - val_acc: 1.0000\n",
      "Epoch 66/100\n",
      "15/15 [==============================] - 93s 6s/step - loss: 0.1403 - acc: 0.9597 - val_loss: 0.0621 - val_acc: 1.0000\n",
      "Epoch 67/100\n",
      "15/15 [==============================] - 92s 6s/step - loss: 0.0519 - acc: 0.9933 - val_loss: 0.0507 - val_acc: 1.0000\n",
      "Epoch 68/100\n",
      "15/15 [==============================] - 92s 6s/step - loss: 0.0557 - acc: 0.9866 - val_loss: 0.0776 - val_acc: 0.9750\n",
      "Epoch 69/100\n",
      "15/15 [==============================] - 92s 6s/step - loss: 0.0632 - acc: 0.9799 - val_loss: 0.0548 - val_acc: 0.9750\n",
      "Epoch 70/100\n",
      "15/15 [==============================] - 92s 6s/step - loss: 0.1030 - acc: 0.9733 - val_loss: 0.0503 - val_acc: 0.9750\n",
      "Epoch 71/100\n",
      "15/15 [==============================] - 92s 6s/step - loss: 0.0619 - acc: 0.9730 - val_loss: 0.0482 - val_acc: 0.9750\n",
      "Epoch 72/100\n",
      "15/15 [==============================] - 93s 6s/step - loss: 0.0681 - acc: 0.9733 - val_loss: 0.0559 - val_acc: 1.0000\n",
      "Epoch 73/100\n",
      "15/15 [==============================] - 92s 6s/step - loss: 0.0570 - acc: 0.9866 - val_loss: 0.0482 - val_acc: 0.9750\n",
      "Epoch 74/100\n",
      "15/15 [==============================] - 92s 6s/step - loss: 0.0724 - acc: 0.9732 - val_loss: 0.0541 - val_acc: 0.9750\n",
      "Epoch 75/100\n",
      "15/15 [==============================] - 92s 6s/step - loss: 0.0633 - acc: 0.9662 - val_loss: 0.0621 - val_acc: 1.0000\n",
      "Epoch 76/100\n",
      "15/15 [==============================] - 92s 6s/step - loss: 0.0597 - acc: 0.9800 - val_loss: 0.0494 - val_acc: 0.9750\n",
      "Epoch 77/100\n",
      "15/15 [==============================] - 92s 6s/step - loss: 0.0511 - acc: 0.9799 - val_loss: 0.0471 - val_acc: 1.0000\n",
      "Epoch 78/100\n",
      "15/15 [==============================] - 92s 6s/step - loss: 0.0473 - acc: 0.9933 - val_loss: 0.0471 - val_acc: 1.0000\n",
      "Epoch 79/100\n",
      "15/15 [==============================] - 92s 6s/step - loss: 0.0714 - acc: 0.9799 - val_loss: 0.0574 - val_acc: 0.9750\n",
      "Epoch 80/100\n",
      "15/15 [==============================] - 91s 6s/step - loss: 0.0440 - acc: 0.9799 - val_loss: 0.0467 - val_acc: 1.0000\n",
      "Epoch 81/100\n",
      "15/15 [==============================] - 92s 6s/step - loss: 0.0457 - acc: 0.9933 - val_loss: 0.0750 - val_acc: 0.9500\n",
      "Epoch 82/100\n",
      "15/15 [==============================] - 92s 6s/step - loss: 0.0338 - acc: 0.9866 - val_loss: 0.0604 - val_acc: 0.9750\n",
      "Epoch 83/100\n",
      "15/15 [==============================] - 91s 6s/step - loss: 0.0872 - acc: 0.9799 - val_loss: 0.0445 - val_acc: 1.0000\n",
      "Epoch 84/100\n",
      "15/15 [==============================] - 92s 6s/step - loss: 0.0740 - acc: 0.9799 - val_loss: 0.0437 - val_acc: 1.0000\n",
      "Epoch 85/100\n",
      "15/15 [==============================] - 92s 6s/step - loss: 0.0352 - acc: 1.0000 - val_loss: 0.0420 - val_acc: 1.0000\n",
      "Epoch 86/100\n",
      "15/15 [==============================] - 91s 6s/step - loss: 0.0690 - acc: 0.9799 - val_loss: 0.0425 - val_acc: 1.0000\n",
      "Epoch 87/100\n",
      "15/15 [==============================] - 91s 6s/step - loss: 0.0966 - acc: 0.9732 - val_loss: 0.0427 - val_acc: 1.0000\n",
      "Epoch 88/100\n",
      "15/15 [==============================] - 92s 6s/step - loss: 0.0549 - acc: 0.9933 - val_loss: 0.0509 - val_acc: 0.9750\n",
      "Epoch 89/100\n",
      "15/15 [==============================] - 92s 6s/step - loss: 0.0621 - acc: 0.9733 - val_loss: 0.0425 - val_acc: 1.0000\n",
      "Epoch 90/100\n",
      "15/15 [==============================] - 91s 6s/step - loss: 0.0336 - acc: 0.9865 - val_loss: 0.0449 - val_acc: 0.9750\n",
      "Epoch 91/100\n",
      "15/15 [==============================] - 91s 6s/step - loss: 0.0437 - acc: 0.9866 - val_loss: 0.0438 - val_acc: 0.9750\n",
      "Epoch 92/100\n",
      "15/15 [==============================] - 91s 6s/step - loss: 0.0456 - acc: 0.9933 - val_loss: 0.0440 - val_acc: 0.9750\n",
      "Epoch 93/100\n",
      "15/15 [==============================] - 92s 6s/step - loss: 0.0473 - acc: 0.9867 - val_loss: 0.0701 - val_acc: 0.9500\n",
      "Epoch 94/100\n",
      "15/15 [==============================] - 92s 6s/step - loss: 0.0641 - acc: 0.9799 - val_loss: 0.0541 - val_acc: 0.9750\n",
      "Epoch 95/100\n",
      "15/15 [==============================] - 91s 6s/step - loss: 0.0569 - acc: 0.9799 - val_loss: 0.0428 - val_acc: 1.0000\n",
      "Epoch 96/100\n",
      "15/15 [==============================] - 91s 6s/step - loss: 0.0421 - acc: 0.9866 - val_loss: 0.0550 - val_acc: 0.9750\n",
      "Epoch 97/100\n",
      "15/15 [==============================] - 91s 6s/step - loss: 0.0719 - acc: 0.9799 - val_loss: 0.0557 - val_acc: 0.9750\n",
      "Epoch 98/100\n",
      "15/15 [==============================] - 92s 6s/step - loss: 0.0438 - acc: 0.9799 - val_loss: 0.0443 - val_acc: 0.9750\n",
      "Epoch 99/100\n",
      "15/15 [==============================] - 92s 6s/step - loss: 0.0516 - acc: 0.9799 - val_loss: 0.0405 - val_acc: 0.9750\n",
      "Epoch 100/100\n",
      "15/15 [==============================] - 92s 6s/step - loss: 0.0256 - acc: 0.9933 - val_loss: 0.0425 - val_acc: 0.9750\n"
     ]
    }
   ],
   "source": [
    " \n",
    "class myCallback(tf.keras.callbacks.Callback):\n",
    "    def on_epoch_end(self, epoch, logs={}):\n",
    "        if(logs.get('acc')>1.0):\n",
    "            print(\"\\nReached 100% accuracy so cancelling training!\")\n",
    "            self.model.stop_training = True\n",
    "\n",
    "callbacks = myCallback()           \n",
    "# train the head of the network\n",
    "print(\"[INFO] training head...\")\n",
    "H = model.fit_generator(trainAug.flow(trainX, trainY, batch_size=BS), \n",
    "                        steps_per_epoch=len(trainX) // BS,\n",
    "                        validation_data=(testX, testY),\n",
    "                        validation_steps=len(testX) // BS, epochs=EPOCHS,  callbacks=[callbacks])"
   ]
  },
  {
   "cell_type": "code",
   "execution_count": 74,
   "metadata": {},
   "outputs": [
    {
     "name": "stdout",
     "output_type": "stream",
     "text": [
      "[INFO] evaluating network...\n",
      "              precision    recall  f1-score   support\n",
      "\n",
      "       covid       0.95      1.00      0.98        20\n",
      "      normal       1.00      0.95      0.97        20\n",
      "\n",
      "    accuracy                           0.97        40\n",
      "   macro avg       0.98      0.97      0.97        40\n",
      "weighted avg       0.98      0.97      0.97        40\n",
      "\n"
     ]
    }
   ],
   "source": [
    "# make predictions on the testing set\n",
    "predIdxs = model.predict(testX, batch_size=BS)\n",
    "# for each image in the testing set we need to find the index of the\n",
    "# label with corresponding largest predicted probability\n",
    "predIdxs = np.argmax(predIdxs, axis=1)\n",
    "# show a nicely formatted classification report\n",
    "print(classification_report(testY.argmax(axis=1), predIdxs, target_names=lb.classes_))"
   ]
  },
  {
   "cell_type": "code",
   "execution_count": 20,
   "metadata": {},
   "outputs": [],
   "source": [
    "df = pd.DataFrame(H)\n",
    "df.to_csv(\"Training_history.csv\", index=False)"
   ]
  },
  {
   "cell_type": "code",
   "execution_count": 76,
   "metadata": {},
   "outputs": [],
   "source": [
    "model.save('InceptionV3_COVID_19.h5')"
   ]
  },
  {
   "cell_type": "code",
   "execution_count": 17,
   "metadata": {},
   "outputs": [],
   "source": [
    "Path_to_model = \"InceptionV3_COVID_19.h5\"\n"
   ]
  },
  {
   "cell_type": "code",
   "execution_count": 26,
   "metadata": {},
   "outputs": [
    {
     "data": {
      "application/vnd.plotly.v1+json": {
       "config": {
        "plotlyServerURL": "https://plot.ly"
       },
       "data": [
        {
         "line": {
          "color": "rgba(255, 153, 51, 1.0)",
          "dash": "solid",
          "shape": "linear",
          "width": 1.3
         },
         "mode": "lines",
         "name": "loss",
         "text": "",
         "type": "scatter",
         "x": [
          0,
          1,
          2,
          3,
          4,
          5,
          6,
          7,
          8,
          9,
          10,
          11,
          12,
          13,
          14,
          15,
          16,
          17,
          18,
          19,
          20,
          21,
          22,
          23,
          24,
          25,
          26,
          27,
          28,
          29,
          30,
          31,
          32,
          33,
          34,
          35,
          36,
          37,
          38,
          39,
          40,
          41,
          42,
          43,
          44,
          45,
          46,
          47,
          48,
          49,
          50,
          51,
          52,
          53,
          54,
          55,
          56,
          57,
          58,
          59,
          60,
          61,
          62,
          63,
          64,
          65,
          66,
          67,
          68,
          69,
          70,
          71,
          72,
          73,
          74,
          75,
          76,
          77,
          78,
          79,
          80,
          81,
          82,
          83,
          84,
          85,
          86,
          87,
          88,
          89,
          90,
          91,
          92,
          93,
          94,
          95,
          96,
          97,
          98,
          99
         ],
         "y": [
          0.6222202529843222,
          0.5650086342888391,
          0.4896642413715388,
          0.44707691272099814,
          0.4443748561111656,
          0.38773372029298103,
          0.3524059483268917,
          0.3298503303487829,
          0.29854646921157835,
          0.34759412564941355,
          0.3326632161935171,
          0.2719275407343103,
          0.24378512759466428,
          0.2543489138285319,
          0.19558363707873644,
          0.23813608558785995,
          0.2224415590699087,
          0.20380762649462528,
          0.22408114693708867,
          0.19509794298034386,
          0.14090897838274638,
          0.18754960782825947,
          0.1574478544444846,
          0.16599090086917082,
          0.1650583876184369,
          0.11999771974030757,
          0.1304517007004973,
          0.16984768683711687,
          0.1414471206148999,
          0.1053827687497907,
          0.1009753380445826,
          0.1408252005009043,
          0.10513520358292848,
          0.12302992641925811,
          0.09129279439381305,
          0.10188682252328668,
          0.10396436493013154,
          0.08781588375068351,
          0.1370496541261673,
          0.14042108969108477,
          0.12426435028513273,
          0.10302326373205889,
          0.06476022811269,
          0.07967675717285015,
          0.062465298333324044,
          0.05880573215718205,
          0.09382069874554873,
          0.08610063882532136,
          0.13994819935936256,
          0.06783600735167662,
          0.10292593313607613,
          0.065324245108254,
          0.10756037700546268,
          0.06354892042775949,
          0.08004449639194364,
          0.09487094280209292,
          0.038661853907008964,
          0.10631249968162519,
          0.07210784854254866,
          0.12394405209503118,
          0.10387785547106658,
          0.09324080752671365,
          0.10812250759152559,
          0.08261126922381004,
          0.07736660646987241,
          0.14109049174284574,
          0.05198453983054465,
          0.05598949950388414,
          0.06329569034278393,
          0.1030033299078544,
          0.06196572858135443,
          0.06806213955084482,
          0.05718940340807574,
          0.07274828062411523,
          0.06385959056206048,
          0.05966842543954651,
          0.0512880617377642,
          0.04745383601910716,
          0.0716653530292163,
          0.04386800910102441,
          0.04595260642118902,
          0.033951519950974306,
          0.08736617341887631,
          0.0739194387820043,
          0.03479836823656255,
          0.06939820252396417,
          0.09635417711383494,
          0.055078891762251024,
          0.06209095790982246,
          0.03363132165946268,
          0.04385018016167935,
          0.04585251064608561,
          0.04730077522496382,
          0.06443284203192132,
          0.05719013605579334,
          0.04213800482083137,
          0.07225592062189776,
          0.04358203407226993,
          0.05185766871268517,
          0.02566897710503998
         ]
        },
        {
         "line": {
          "color": "rgba(55, 128, 191, 1.0)",
          "dash": "solid",
          "shape": "linear",
          "width": 1.3
         },
         "mode": "lines",
         "name": "acc",
         "text": "",
         "type": "scatter",
         "x": [
          0,
          1,
          2,
          3,
          4,
          5,
          6,
          7,
          8,
          9,
          10,
          11,
          12,
          13,
          14,
          15,
          16,
          17,
          18,
          19,
          20,
          21,
          22,
          23,
          24,
          25,
          26,
          27,
          28,
          29,
          30,
          31,
          32,
          33,
          34,
          35,
          36,
          37,
          38,
          39,
          40,
          41,
          42,
          43,
          44,
          45,
          46,
          47,
          48,
          49,
          50,
          51,
          52,
          53,
          54,
          55,
          56,
          57,
          58,
          59,
          60,
          61,
          62,
          63,
          64,
          65,
          66,
          67,
          68,
          69,
          70,
          71,
          72,
          73,
          74,
          75,
          76,
          77,
          78,
          79,
          80,
          81,
          82,
          83,
          84,
          85,
          86,
          87,
          88,
          89,
          90,
          91,
          92,
          93,
          94,
          95,
          96,
          97,
          98,
          99
         ],
         "y": [
          0.6442953,
          0.7315436,
          0.84563756,
          0.84,
          0.8581081,
          0.90604025,
          0.9261745,
          0.90604025,
          0.91333336,
          0.8648649,
          0.88,
          0.9261745,
          0.9391892,
          0.94666666,
          0.94630873,
          0.90604025,
          0.9261745,
          0.94630873,
          0.9261745,
          0.95302016,
          0.96666664,
          0.9527027,
          0.9597315,
          0.93333334,
          0.9395973,
          0.9798658,
          0.972973,
          0.93333334,
          0.97315437,
          0.97315437,
          0.98657715,
          0.96644294,
          0.9798658,
          0.96,
          0.9798658,
          0.96644294,
          0.9662162,
          0.97315437,
          0.96,
          0.972973,
          0.96666664,
          0.96644294,
          0.9798658,
          0.9798658,
          1,
          0.9797297,
          0.98,
          0.9798658,
          0.95302016,
          0.9866667,
          0.972973,
          0.9932886,
          0.96644294,
          0.97333336,
          0.9798658,
          0.9662162,
          0.99333334,
          0.9597315,
          0.97315437,
          0.94630873,
          0.97315437,
          0.96644294,
          0.96644294,
          0.98657715,
          0.96644294,
          0.9597315,
          0.9932886,
          0.98657715,
          0.9798658,
          0.97333336,
          0.972973,
          0.97333336,
          0.98657715,
          0.97315437,
          0.9662162,
          0.98,
          0.9798658,
          0.9932886,
          0.9798658,
          0.9798658,
          0.9932886,
          0.98657715,
          0.9798658,
          0.9798658,
          1,
          0.9798658,
          0.97315437,
          0.9932886,
          0.97333336,
          0.9864865,
          0.98657715,
          0.9932886,
          0.9866667,
          0.9798658,
          0.9798658,
          0.98657715,
          0.9798658,
          0.9798658,
          0.9798658,
          0.9932886
         ]
        },
        {
         "line": {
          "color": "rgba(50, 171, 96, 1.0)",
          "dash": "solid",
          "shape": "linear",
          "width": 1.3
         },
         "mode": "lines",
         "name": "val_loss",
         "text": "",
         "type": "scatter",
         "x": [
          0,
          1,
          2,
          3,
          4,
          5,
          6,
          7,
          8,
          9,
          10,
          11,
          12,
          13,
          14,
          15,
          16,
          17,
          18,
          19,
          20,
          21,
          22,
          23,
          24,
          25,
          26,
          27,
          28,
          29,
          30,
          31,
          32,
          33,
          34,
          35,
          36,
          37,
          38,
          39,
          40,
          41,
          42,
          43,
          44,
          45,
          46,
          47,
          48,
          49,
          50,
          51,
          52,
          53,
          54,
          55,
          56,
          57,
          58,
          59,
          60,
          61,
          62,
          63,
          64,
          65,
          66,
          67,
          68,
          69,
          70,
          71,
          72,
          73,
          74,
          75,
          76,
          77,
          78,
          79,
          80,
          81,
          82,
          83,
          84,
          85,
          86,
          87,
          88,
          89,
          90,
          91,
          92,
          93,
          94,
          95,
          96,
          97,
          98,
          99
         ],
         "y": [
          0.5715140700340271,
          0.5384082719683647,
          0.5472840145230293,
          0.40807686001062393,
          0.35561270713806153,
          0.358378779143095,
          0.3106120191514492,
          0.2807018429040909,
          0.21308251842856407,
          0.32790435254573824,
          0.2788935974240303,
          0.2998070027679205,
          0.18496203981339931,
          0.25963907316327095,
          0.20192578993737698,
          0.23562978580594063,
          0.209383824467659,
          0.17392886988818645,
          0.20971036702394485,
          0.1511866133660078,
          0.1052333153784275,
          0.16747681982815266,
          0.10481724701821804,
          0.098328887950629,
          0.11286271177232265,
          0.15927430987358093,
          0.08924836292862892,
          0.16973545029759407,
          0.12026267126202583,
          0.08944657491520047,
          0.11878851242363453,
          0.09244750579819083,
          0.10027981270104647,
          0.08384238462895155,
          0.1203994220122695,
          0.07484044576995075,
          0.07813713047653437,
          0.07411108445376158,
          0.10950225871056318,
          0.0788709755986929,
          0.09632632741704583,
          0.1100657107308507,
          0.06263462221249938,
          0.11878056824207306,
          0.08254277240484953,
          0.08985986299812794,
          0.08164535369724035,
          0.05904691480100155,
          0.06319998530671,
          0.059185616206377745,
          0.06858729012310505,
          0.07073886757716537,
          0.05702887196093798,
          0.05450492026284337,
          0.05547836469486356,
          0.05443974770605564,
          0.06067479308694601,
          0.051475003361701965,
          0.05692995531717315,
          0.07799770683050156,
          0.05497435247525573,
          0.051806123345158994,
          0.05960842687636614,
          0.06029477678239346,
          0.05636668927036226,
          0.06212140098214149,
          0.050687894341535866,
          0.077617681119591,
          0.05482946988195181,
          0.050278390117455274,
          0.04815672984113917,
          0.05592572037130594,
          0.04823650745674968,
          0.05406456929631531,
          0.06209220560267568,
          0.04938445350853726,
          0.047071207663975656,
          0.04710047005210072,
          0.05744649330154061,
          0.046746415784582496,
          0.07504478705232032,
          0.06041538650169968,
          0.04454277106560767,
          0.04366210009902716,
          0.04201455577276647,
          0.042472707689739764,
          0.04268385702744126,
          0.050911707105115056,
          0.04249840264674276,
          0.04488365037832409,
          0.04377385595580563,
          0.04396154428832233,
          0.07013468879449647,
          0.054138154664542526,
          0.042833616491407156,
          0.055003646324621513,
          0.055705165781546384,
          0.044288015575148165,
          0.040523080504499376,
          0.0424986828584224
         ]
        },
        {
         "line": {
          "color": "rgba(128, 0, 128, 1.0)",
          "dash": "solid",
          "shape": "linear",
          "width": 1.3
         },
         "mode": "lines",
         "name": "val_acc",
         "text": "",
         "type": "scatter",
         "x": [
          0,
          1,
          2,
          3,
          4,
          5,
          6,
          7,
          8,
          9,
          10,
          11,
          12,
          13,
          14,
          15,
          16,
          17,
          18,
          19,
          20,
          21,
          22,
          23,
          24,
          25,
          26,
          27,
          28,
          29,
          30,
          31,
          32,
          33,
          34,
          35,
          36,
          37,
          38,
          39,
          40,
          41,
          42,
          43,
          44,
          45,
          46,
          47,
          48,
          49,
          50,
          51,
          52,
          53,
          54,
          55,
          56,
          57,
          58,
          59,
          60,
          61,
          62,
          63,
          64,
          65,
          66,
          67,
          68,
          69,
          70,
          71,
          72,
          73,
          74,
          75,
          76,
          77,
          78,
          79,
          80,
          81,
          82,
          83,
          84,
          85,
          86,
          87,
          88,
          89,
          90,
          91,
          92,
          93,
          94,
          95,
          96,
          97,
          98,
          99
         ],
         "y": [
          0.875,
          0.7,
          0.575,
          0.825,
          0.8,
          0.775,
          0.85,
          0.875,
          0.975,
          0.775,
          0.825,
          0.8,
          0.95,
          0.85,
          0.925,
          0.875,
          0.9,
          0.95,
          0.925,
          0.95,
          0.975,
          0.925,
          0.975,
          0.975,
          0.975,
          0.925,
          0.975,
          0.925,
          0.95,
          1,
          0.95,
          0.975,
          0.975,
          1,
          0.95,
          1,
          1,
          1,
          0.95,
          1,
          0.975,
          0.95,
          0.975,
          0.925,
          0.975,
          0.975,
          0.975,
          1,
          1,
          1,
          1,
          0.975,
          1,
          1,
          0.975,
          1,
          1,
          0.975,
          0.975,
          0.975,
          0.975,
          0.975,
          1,
          1,
          1,
          1,
          1,
          0.975,
          0.975,
          0.975,
          0.975,
          1,
          0.975,
          0.975,
          1,
          0.975,
          1,
          1,
          0.975,
          1,
          0.95,
          0.975,
          1,
          1,
          1,
          1,
          1,
          0.975,
          1,
          0.975,
          0.975,
          0.975,
          0.95,
          0.975,
          1,
          0.975,
          0.975,
          0.975,
          0.975,
          0.975
         ]
        }
       ],
       "layout": {
        "legend": {
         "bgcolor": "#F5F6F9",
         "font": {
          "color": "#4D5663"
         }
        },
        "paper_bgcolor": "#F5F6F9",
        "plot_bgcolor": "#F5F6F9",
        "template": {
         "data": {
          "bar": [
           {
            "error_x": {
             "color": "#2a3f5f"
            },
            "error_y": {
             "color": "#2a3f5f"
            },
            "marker": {
             "line": {
              "color": "#E5ECF6",
              "width": 0.5
             }
            },
            "type": "bar"
           }
          ],
          "barpolar": [
           {
            "marker": {
             "line": {
              "color": "#E5ECF6",
              "width": 0.5
             }
            },
            "type": "barpolar"
           }
          ],
          "carpet": [
           {
            "aaxis": {
             "endlinecolor": "#2a3f5f",
             "gridcolor": "white",
             "linecolor": "white",
             "minorgridcolor": "white",
             "startlinecolor": "#2a3f5f"
            },
            "baxis": {
             "endlinecolor": "#2a3f5f",
             "gridcolor": "white",
             "linecolor": "white",
             "minorgridcolor": "white",
             "startlinecolor": "#2a3f5f"
            },
            "type": "carpet"
           }
          ],
          "choropleth": [
           {
            "colorbar": {
             "outlinewidth": 0,
             "ticks": ""
            },
            "type": "choropleth"
           }
          ],
          "contour": [
           {
            "colorbar": {
             "outlinewidth": 0,
             "ticks": ""
            },
            "colorscale": [
             [
              0,
              "#0d0887"
             ],
             [
              0.1111111111111111,
              "#46039f"
             ],
             [
              0.2222222222222222,
              "#7201a8"
             ],
             [
              0.3333333333333333,
              "#9c179e"
             ],
             [
              0.4444444444444444,
              "#bd3786"
             ],
             [
              0.5555555555555556,
              "#d8576b"
             ],
             [
              0.6666666666666666,
              "#ed7953"
             ],
             [
              0.7777777777777778,
              "#fb9f3a"
             ],
             [
              0.8888888888888888,
              "#fdca26"
             ],
             [
              1,
              "#f0f921"
             ]
            ],
            "type": "contour"
           }
          ],
          "contourcarpet": [
           {
            "colorbar": {
             "outlinewidth": 0,
             "ticks": ""
            },
            "type": "contourcarpet"
           }
          ],
          "heatmap": [
           {
            "colorbar": {
             "outlinewidth": 0,
             "ticks": ""
            },
            "colorscale": [
             [
              0,
              "#0d0887"
             ],
             [
              0.1111111111111111,
              "#46039f"
             ],
             [
              0.2222222222222222,
              "#7201a8"
             ],
             [
              0.3333333333333333,
              "#9c179e"
             ],
             [
              0.4444444444444444,
              "#bd3786"
             ],
             [
              0.5555555555555556,
              "#d8576b"
             ],
             [
              0.6666666666666666,
              "#ed7953"
             ],
             [
              0.7777777777777778,
              "#fb9f3a"
             ],
             [
              0.8888888888888888,
              "#fdca26"
             ],
             [
              1,
              "#f0f921"
             ]
            ],
            "type": "heatmap"
           }
          ],
          "heatmapgl": [
           {
            "colorbar": {
             "outlinewidth": 0,
             "ticks": ""
            },
            "colorscale": [
             [
              0,
              "#0d0887"
             ],
             [
              0.1111111111111111,
              "#46039f"
             ],
             [
              0.2222222222222222,
              "#7201a8"
             ],
             [
              0.3333333333333333,
              "#9c179e"
             ],
             [
              0.4444444444444444,
              "#bd3786"
             ],
             [
              0.5555555555555556,
              "#d8576b"
             ],
             [
              0.6666666666666666,
              "#ed7953"
             ],
             [
              0.7777777777777778,
              "#fb9f3a"
             ],
             [
              0.8888888888888888,
              "#fdca26"
             ],
             [
              1,
              "#f0f921"
             ]
            ],
            "type": "heatmapgl"
           }
          ],
          "histogram": [
           {
            "marker": {
             "colorbar": {
              "outlinewidth": 0,
              "ticks": ""
             }
            },
            "type": "histogram"
           }
          ],
          "histogram2d": [
           {
            "colorbar": {
             "outlinewidth": 0,
             "ticks": ""
            },
            "colorscale": [
             [
              0,
              "#0d0887"
             ],
             [
              0.1111111111111111,
              "#46039f"
             ],
             [
              0.2222222222222222,
              "#7201a8"
             ],
             [
              0.3333333333333333,
              "#9c179e"
             ],
             [
              0.4444444444444444,
              "#bd3786"
             ],
             [
              0.5555555555555556,
              "#d8576b"
             ],
             [
              0.6666666666666666,
              "#ed7953"
             ],
             [
              0.7777777777777778,
              "#fb9f3a"
             ],
             [
              0.8888888888888888,
              "#fdca26"
             ],
             [
              1,
              "#f0f921"
             ]
            ],
            "type": "histogram2d"
           }
          ],
          "histogram2dcontour": [
           {
            "colorbar": {
             "outlinewidth": 0,
             "ticks": ""
            },
            "colorscale": [
             [
              0,
              "#0d0887"
             ],
             [
              0.1111111111111111,
              "#46039f"
             ],
             [
              0.2222222222222222,
              "#7201a8"
             ],
             [
              0.3333333333333333,
              "#9c179e"
             ],
             [
              0.4444444444444444,
              "#bd3786"
             ],
             [
              0.5555555555555556,
              "#d8576b"
             ],
             [
              0.6666666666666666,
              "#ed7953"
             ],
             [
              0.7777777777777778,
              "#fb9f3a"
             ],
             [
              0.8888888888888888,
              "#fdca26"
             ],
             [
              1,
              "#f0f921"
             ]
            ],
            "type": "histogram2dcontour"
           }
          ],
          "mesh3d": [
           {
            "colorbar": {
             "outlinewidth": 0,
             "ticks": ""
            },
            "type": "mesh3d"
           }
          ],
          "parcoords": [
           {
            "line": {
             "colorbar": {
              "outlinewidth": 0,
              "ticks": ""
             }
            },
            "type": "parcoords"
           }
          ],
          "pie": [
           {
            "automargin": true,
            "type": "pie"
           }
          ],
          "scatter": [
           {
            "marker": {
             "colorbar": {
              "outlinewidth": 0,
              "ticks": ""
             }
            },
            "type": "scatter"
           }
          ],
          "scatter3d": [
           {
            "line": {
             "colorbar": {
              "outlinewidth": 0,
              "ticks": ""
             }
            },
            "marker": {
             "colorbar": {
              "outlinewidth": 0,
              "ticks": ""
             }
            },
            "type": "scatter3d"
           }
          ],
          "scattercarpet": [
           {
            "marker": {
             "colorbar": {
              "outlinewidth": 0,
              "ticks": ""
             }
            },
            "type": "scattercarpet"
           }
          ],
          "scattergeo": [
           {
            "marker": {
             "colorbar": {
              "outlinewidth": 0,
              "ticks": ""
             }
            },
            "type": "scattergeo"
           }
          ],
          "scattergl": [
           {
            "marker": {
             "colorbar": {
              "outlinewidth": 0,
              "ticks": ""
             }
            },
            "type": "scattergl"
           }
          ],
          "scattermapbox": [
           {
            "marker": {
             "colorbar": {
              "outlinewidth": 0,
              "ticks": ""
             }
            },
            "type": "scattermapbox"
           }
          ],
          "scatterpolar": [
           {
            "marker": {
             "colorbar": {
              "outlinewidth": 0,
              "ticks": ""
             }
            },
            "type": "scatterpolar"
           }
          ],
          "scatterpolargl": [
           {
            "marker": {
             "colorbar": {
              "outlinewidth": 0,
              "ticks": ""
             }
            },
            "type": "scatterpolargl"
           }
          ],
          "scatterternary": [
           {
            "marker": {
             "colorbar": {
              "outlinewidth": 0,
              "ticks": ""
             }
            },
            "type": "scatterternary"
           }
          ],
          "surface": [
           {
            "colorbar": {
             "outlinewidth": 0,
             "ticks": ""
            },
            "colorscale": [
             [
              0,
              "#0d0887"
             ],
             [
              0.1111111111111111,
              "#46039f"
             ],
             [
              0.2222222222222222,
              "#7201a8"
             ],
             [
              0.3333333333333333,
              "#9c179e"
             ],
             [
              0.4444444444444444,
              "#bd3786"
             ],
             [
              0.5555555555555556,
              "#d8576b"
             ],
             [
              0.6666666666666666,
              "#ed7953"
             ],
             [
              0.7777777777777778,
              "#fb9f3a"
             ],
             [
              0.8888888888888888,
              "#fdca26"
             ],
             [
              1,
              "#f0f921"
             ]
            ],
            "type": "surface"
           }
          ],
          "table": [
           {
            "cells": {
             "fill": {
              "color": "#EBF0F8"
             },
             "line": {
              "color": "white"
             }
            },
            "header": {
             "fill": {
              "color": "#C8D4E3"
             },
             "line": {
              "color": "white"
             }
            },
            "type": "table"
           }
          ]
         },
         "layout": {
          "annotationdefaults": {
           "arrowcolor": "#2a3f5f",
           "arrowhead": 0,
           "arrowwidth": 1
          },
          "coloraxis": {
           "colorbar": {
            "outlinewidth": 0,
            "ticks": ""
           }
          },
          "colorscale": {
           "diverging": [
            [
             0,
             "#8e0152"
            ],
            [
             0.1,
             "#c51b7d"
            ],
            [
             0.2,
             "#de77ae"
            ],
            [
             0.3,
             "#f1b6da"
            ],
            [
             0.4,
             "#fde0ef"
            ],
            [
             0.5,
             "#f7f7f7"
            ],
            [
             0.6,
             "#e6f5d0"
            ],
            [
             0.7,
             "#b8e186"
            ],
            [
             0.8,
             "#7fbc41"
            ],
            [
             0.9,
             "#4d9221"
            ],
            [
             1,
             "#276419"
            ]
           ],
           "sequential": [
            [
             0,
             "#0d0887"
            ],
            [
             0.1111111111111111,
             "#46039f"
            ],
            [
             0.2222222222222222,
             "#7201a8"
            ],
            [
             0.3333333333333333,
             "#9c179e"
            ],
            [
             0.4444444444444444,
             "#bd3786"
            ],
            [
             0.5555555555555556,
             "#d8576b"
            ],
            [
             0.6666666666666666,
             "#ed7953"
            ],
            [
             0.7777777777777778,
             "#fb9f3a"
            ],
            [
             0.8888888888888888,
             "#fdca26"
            ],
            [
             1,
             "#f0f921"
            ]
           ],
           "sequentialminus": [
            [
             0,
             "#0d0887"
            ],
            [
             0.1111111111111111,
             "#46039f"
            ],
            [
             0.2222222222222222,
             "#7201a8"
            ],
            [
             0.3333333333333333,
             "#9c179e"
            ],
            [
             0.4444444444444444,
             "#bd3786"
            ],
            [
             0.5555555555555556,
             "#d8576b"
            ],
            [
             0.6666666666666666,
             "#ed7953"
            ],
            [
             0.7777777777777778,
             "#fb9f3a"
            ],
            [
             0.8888888888888888,
             "#fdca26"
            ],
            [
             1,
             "#f0f921"
            ]
           ]
          },
          "colorway": [
           "#636efa",
           "#EF553B",
           "#00cc96",
           "#ab63fa",
           "#FFA15A",
           "#19d3f3",
           "#FF6692",
           "#B6E880",
           "#FF97FF",
           "#FECB52"
          ],
          "font": {
           "color": "#2a3f5f"
          },
          "geo": {
           "bgcolor": "white",
           "lakecolor": "white",
           "landcolor": "#E5ECF6",
           "showlakes": true,
           "showland": true,
           "subunitcolor": "white"
          },
          "hoverlabel": {
           "align": "left"
          },
          "hovermode": "closest",
          "mapbox": {
           "style": "light"
          },
          "paper_bgcolor": "white",
          "plot_bgcolor": "#E5ECF6",
          "polar": {
           "angularaxis": {
            "gridcolor": "white",
            "linecolor": "white",
            "ticks": ""
           },
           "bgcolor": "#E5ECF6",
           "radialaxis": {
            "gridcolor": "white",
            "linecolor": "white",
            "ticks": ""
           }
          },
          "scene": {
           "xaxis": {
            "backgroundcolor": "#E5ECF6",
            "gridcolor": "white",
            "gridwidth": 2,
            "linecolor": "white",
            "showbackground": true,
            "ticks": "",
            "zerolinecolor": "white"
           },
           "yaxis": {
            "backgroundcolor": "#E5ECF6",
            "gridcolor": "white",
            "gridwidth": 2,
            "linecolor": "white",
            "showbackground": true,
            "ticks": "",
            "zerolinecolor": "white"
           },
           "zaxis": {
            "backgroundcolor": "#E5ECF6",
            "gridcolor": "white",
            "gridwidth": 2,
            "linecolor": "white",
            "showbackground": true,
            "ticks": "",
            "zerolinecolor": "white"
           }
          },
          "shapedefaults": {
           "line": {
            "color": "#2a3f5f"
           }
          },
          "ternary": {
           "aaxis": {
            "gridcolor": "white",
            "linecolor": "white",
            "ticks": ""
           },
           "baxis": {
            "gridcolor": "white",
            "linecolor": "white",
            "ticks": ""
           },
           "bgcolor": "#E5ECF6",
           "caxis": {
            "gridcolor": "white",
            "linecolor": "white",
            "ticks": ""
           }
          },
          "title": {
           "x": 0.05
          },
          "xaxis": {
           "automargin": true,
           "gridcolor": "white",
           "linecolor": "white",
           "ticks": "",
           "title": {
            "standoff": 15
           },
           "zerolinecolor": "white",
           "zerolinewidth": 2
          },
          "yaxis": {
           "automargin": true,
           "gridcolor": "white",
           "linecolor": "white",
           "ticks": "",
           "title": {
            "standoff": 15
           },
           "zerolinecolor": "white",
           "zerolinewidth": 2
          }
         }
        },
        "title": {
         "font": {
          "color": "#4D5663"
         }
        },
        "xaxis": {
         "gridcolor": "#E1E5ED",
         "showgrid": true,
         "tickfont": {
          "color": "#4D5663"
         },
         "title": {
          "font": {
           "color": "#4D5663"
          },
          "text": ""
         },
         "zerolinecolor": "#E1E5ED"
        },
        "yaxis": {
         "gridcolor": "#E1E5ED",
         "showgrid": true,
         "tickfont": {
          "color": "#4D5663"
         },
         "title": {
          "font": {
           "color": "#4D5663"
          },
          "text": ""
         },
         "zerolinecolor": "#E1E5ED"
        }
       }
      },
      "text/html": [
       "<div>\n",
       "        \n",
       "        \n",
       "            <div id=\"110e8273-ecd3-49e6-81ab-fdc9b8386e9e\" class=\"plotly-graph-div\" style=\"height:525px; width:100%;\"></div>\n",
       "            <script type=\"text/javascript\">\n",
       "                require([\"plotly\"], function(Plotly) {\n",
       "                    window.PLOTLYENV=window.PLOTLYENV || {};\n",
       "                    \n",
       "                if (document.getElementById(\"110e8273-ecd3-49e6-81ab-fdc9b8386e9e\")) {\n",
       "                    Plotly.newPlot(\n",
       "                        '110e8273-ecd3-49e6-81ab-fdc9b8386e9e',\n",
       "                        [{\"line\": {\"color\": \"rgba(255, 153, 51, 1.0)\", \"dash\": \"solid\", \"shape\": \"linear\", \"width\": 1.3}, \"mode\": \"lines\", \"name\": \"loss\", \"text\": \"\", \"type\": \"scatter\", \"x\": [0, 1, 2, 3, 4, 5, 6, 7, 8, 9, 10, 11, 12, 13, 14, 15, 16, 17, 18, 19, 20, 21, 22, 23, 24, 25, 26, 27, 28, 29, 30, 31, 32, 33, 34, 35, 36, 37, 38, 39, 40, 41, 42, 43, 44, 45, 46, 47, 48, 49, 50, 51, 52, 53, 54, 55, 56, 57, 58, 59, 60, 61, 62, 63, 64, 65, 66, 67, 68, 69, 70, 71, 72, 73, 74, 75, 76, 77, 78, 79, 80, 81, 82, 83, 84, 85, 86, 87, 88, 89, 90, 91, 92, 93, 94, 95, 96, 97, 98, 99], \"y\": [0.6222202529843222, 0.5650086342888391, 0.4896642413715388, 0.44707691272099814, 0.4443748561111656, 0.38773372029298103, 0.3524059483268917, 0.3298503303487829, 0.29854646921157835, 0.34759412564941355, 0.3326632161935171, 0.2719275407343103, 0.24378512759466428, 0.2543489138285319, 0.19558363707873644, 0.23813608558785995, 0.2224415590699087, 0.20380762649462528, 0.22408114693708867, 0.19509794298034386, 0.14090897838274638, 0.18754960782825947, 0.1574478544444846, 0.16599090086917082, 0.1650583876184369, 0.11999771974030757, 0.1304517007004973, 0.16984768683711687, 0.1414471206148999, 0.1053827687497907, 0.1009753380445826, 0.1408252005009043, 0.10513520358292848, 0.12302992641925811, 0.09129279439381305, 0.10188682252328668, 0.10396436493013154, 0.08781588375068351, 0.1370496541261673, 0.14042108969108477, 0.12426435028513273, 0.10302326373205889, 0.06476022811269, 0.07967675717285015, 0.062465298333324044, 0.05880573215718205, 0.09382069874554873, 0.08610063882532136, 0.13994819935936256, 0.06783600735167662, 0.10292593313607613, 0.065324245108254, 0.10756037700546268, 0.06354892042775949, 0.08004449639194364, 0.09487094280209292, 0.038661853907008964, 0.10631249968162519, 0.07210784854254866, 0.12394405209503118, 0.10387785547106658, 0.09324080752671365, 0.10812250759152559, 0.08261126922381004, 0.07736660646987241, 0.14109049174284574, 0.05198453983054465, 0.05598949950388414, 0.06329569034278393, 0.1030033299078544, 0.06196572858135443, 0.06806213955084482, 0.05718940340807574, 0.07274828062411523, 0.06385959056206048, 0.05966842543954651, 0.0512880617377642, 0.04745383601910716, 0.0716653530292163, 0.04386800910102441, 0.04595260642118902, 0.033951519950974306, 0.08736617341887631, 0.0739194387820043, 0.03479836823656255, 0.06939820252396417, 0.09635417711383494, 0.055078891762251024, 0.06209095790982246, 0.03363132165946268, 0.04385018016167935, 0.04585251064608561, 0.04730077522496382, 0.06443284203192132, 0.05719013605579334, 0.04213800482083137, 0.07225592062189776, 0.04358203407226993, 0.05185766871268517, 0.02566897710503998]}, {\"line\": {\"color\": \"rgba(55, 128, 191, 1.0)\", \"dash\": \"solid\", \"shape\": \"linear\", \"width\": 1.3}, \"mode\": \"lines\", \"name\": \"acc\", \"text\": \"\", \"type\": \"scatter\", \"x\": [0, 1, 2, 3, 4, 5, 6, 7, 8, 9, 10, 11, 12, 13, 14, 15, 16, 17, 18, 19, 20, 21, 22, 23, 24, 25, 26, 27, 28, 29, 30, 31, 32, 33, 34, 35, 36, 37, 38, 39, 40, 41, 42, 43, 44, 45, 46, 47, 48, 49, 50, 51, 52, 53, 54, 55, 56, 57, 58, 59, 60, 61, 62, 63, 64, 65, 66, 67, 68, 69, 70, 71, 72, 73, 74, 75, 76, 77, 78, 79, 80, 81, 82, 83, 84, 85, 86, 87, 88, 89, 90, 91, 92, 93, 94, 95, 96, 97, 98, 99], \"y\": [0.6442953, 0.7315436, 0.84563756, 0.84, 0.8581081, 0.90604025, 0.9261745, 0.90604025, 0.91333336, 0.8648649, 0.88, 0.9261745, 0.9391892, 0.94666666, 0.94630873, 0.90604025, 0.9261745, 0.94630873, 0.9261745, 0.95302016, 0.96666664, 0.9527027, 0.9597315, 0.93333334, 0.9395973, 0.9798658, 0.972973, 0.93333334, 0.97315437, 0.97315437, 0.98657715, 0.96644294, 0.9798658, 0.96, 0.9798658, 0.96644294, 0.9662162, 0.97315437, 0.96, 0.972973, 0.96666664, 0.96644294, 0.9798658, 0.9798658, 1.0, 0.9797297, 0.98, 0.9798658, 0.95302016, 0.9866667, 0.972973, 0.9932886, 0.96644294, 0.97333336, 0.9798658, 0.9662162, 0.99333334, 0.9597315, 0.97315437, 0.94630873, 0.97315437, 0.96644294, 0.96644294, 0.98657715, 0.96644294, 0.9597315, 0.9932886, 0.98657715, 0.9798658, 0.97333336, 0.972973, 0.97333336, 0.98657715, 0.97315437, 0.9662162, 0.98, 0.9798658, 0.9932886, 0.9798658, 0.9798658, 0.9932886, 0.98657715, 0.9798658, 0.9798658, 1.0, 0.9798658, 0.97315437, 0.9932886, 0.97333336, 0.9864865, 0.98657715, 0.9932886, 0.9866667, 0.9798658, 0.9798658, 0.98657715, 0.9798658, 0.9798658, 0.9798658, 0.9932886]}, {\"line\": {\"color\": \"rgba(50, 171, 96, 1.0)\", \"dash\": \"solid\", \"shape\": \"linear\", \"width\": 1.3}, \"mode\": \"lines\", \"name\": \"val_loss\", \"text\": \"\", \"type\": \"scatter\", \"x\": [0, 1, 2, 3, 4, 5, 6, 7, 8, 9, 10, 11, 12, 13, 14, 15, 16, 17, 18, 19, 20, 21, 22, 23, 24, 25, 26, 27, 28, 29, 30, 31, 32, 33, 34, 35, 36, 37, 38, 39, 40, 41, 42, 43, 44, 45, 46, 47, 48, 49, 50, 51, 52, 53, 54, 55, 56, 57, 58, 59, 60, 61, 62, 63, 64, 65, 66, 67, 68, 69, 70, 71, 72, 73, 74, 75, 76, 77, 78, 79, 80, 81, 82, 83, 84, 85, 86, 87, 88, 89, 90, 91, 92, 93, 94, 95, 96, 97, 98, 99], \"y\": [0.5715140700340271, 0.5384082719683647, 0.5472840145230293, 0.40807686001062393, 0.35561270713806153, 0.358378779143095, 0.3106120191514492, 0.2807018429040909, 0.21308251842856407, 0.32790435254573824, 0.2788935974240303, 0.2998070027679205, 0.18496203981339931, 0.25963907316327095, 0.20192578993737698, 0.23562978580594063, 0.209383824467659, 0.17392886988818645, 0.20971036702394485, 0.1511866133660078, 0.1052333153784275, 0.16747681982815266, 0.10481724701821804, 0.098328887950629, 0.11286271177232265, 0.15927430987358093, 0.08924836292862892, 0.16973545029759407, 0.12026267126202583, 0.08944657491520047, 0.11878851242363453, 0.09244750579819083, 0.10027981270104647, 0.08384238462895155, 0.1203994220122695, 0.07484044576995075, 0.07813713047653437, 0.07411108445376158, 0.10950225871056318, 0.0788709755986929, 0.09632632741704583, 0.1100657107308507, 0.06263462221249938, 0.11878056824207306, 0.08254277240484953, 0.08985986299812794, 0.08164535369724035, 0.05904691480100155, 0.06319998530671, 0.059185616206377745, 0.06858729012310505, 0.07073886757716537, 0.05702887196093798, 0.05450492026284337, 0.05547836469486356, 0.05443974770605564, 0.06067479308694601, 0.051475003361701965, 0.05692995531717315, 0.07799770683050156, 0.05497435247525573, 0.051806123345158994, 0.05960842687636614, 0.06029477678239346, 0.05636668927036226, 0.06212140098214149, 0.050687894341535866, 0.077617681119591, 0.05482946988195181, 0.050278390117455274, 0.04815672984113917, 0.05592572037130594, 0.04823650745674968, 0.05406456929631531, 0.06209220560267568, 0.04938445350853726, 0.047071207663975656, 0.04710047005210072, 0.05744649330154061, 0.046746415784582496, 0.07504478705232032, 0.06041538650169968, 0.04454277106560767, 0.04366210009902716, 0.04201455577276647, 0.042472707689739764, 0.04268385702744126, 0.050911707105115056, 0.04249840264674276, 0.04488365037832409, 0.04377385595580563, 0.04396154428832233, 0.07013468879449647, 0.054138154664542526, 0.042833616491407156, 0.055003646324621513, 0.055705165781546384, 0.044288015575148165, 0.040523080504499376, 0.0424986828584224]}, {\"line\": {\"color\": \"rgba(128, 0, 128, 1.0)\", \"dash\": \"solid\", \"shape\": \"linear\", \"width\": 1.3}, \"mode\": \"lines\", \"name\": \"val_acc\", \"text\": \"\", \"type\": \"scatter\", \"x\": [0, 1, 2, 3, 4, 5, 6, 7, 8, 9, 10, 11, 12, 13, 14, 15, 16, 17, 18, 19, 20, 21, 22, 23, 24, 25, 26, 27, 28, 29, 30, 31, 32, 33, 34, 35, 36, 37, 38, 39, 40, 41, 42, 43, 44, 45, 46, 47, 48, 49, 50, 51, 52, 53, 54, 55, 56, 57, 58, 59, 60, 61, 62, 63, 64, 65, 66, 67, 68, 69, 70, 71, 72, 73, 74, 75, 76, 77, 78, 79, 80, 81, 82, 83, 84, 85, 86, 87, 88, 89, 90, 91, 92, 93, 94, 95, 96, 97, 98, 99], \"y\": [0.875, 0.7, 0.575, 0.825, 0.8, 0.775, 0.85, 0.875, 0.975, 0.775, 0.825, 0.8, 0.95, 0.85, 0.925, 0.875, 0.9, 0.95, 0.925, 0.95, 0.975, 0.925, 0.975, 0.975, 0.975, 0.925, 0.975, 0.925, 0.95, 1.0, 0.95, 0.975, 0.975, 1.0, 0.95, 1.0, 1.0, 1.0, 0.95, 1.0, 0.975, 0.95, 0.975, 0.925, 0.975, 0.975, 0.975, 1.0, 1.0, 1.0, 1.0, 0.975, 1.0, 1.0, 0.975, 1.0, 1.0, 0.975, 0.975, 0.975, 0.975, 0.975, 1.0, 1.0, 1.0, 1.0, 1.0, 0.975, 0.975, 0.975, 0.975, 1.0, 0.975, 0.975, 1.0, 0.975, 1.0, 1.0, 0.975, 1.0, 0.95, 0.975, 1.0, 1.0, 1.0, 1.0, 1.0, 0.975, 1.0, 0.975, 0.975, 0.975, 0.95, 0.975, 1.0, 0.975, 0.975, 0.975, 0.975, 0.975]}],\n",
       "                        {\"legend\": {\"bgcolor\": \"#F5F6F9\", \"font\": {\"color\": \"#4D5663\"}}, \"paper_bgcolor\": \"#F5F6F9\", \"plot_bgcolor\": \"#F5F6F9\", \"template\": {\"data\": {\"bar\": [{\"error_x\": {\"color\": \"#2a3f5f\"}, \"error_y\": {\"color\": \"#2a3f5f\"}, \"marker\": {\"line\": {\"color\": \"#E5ECF6\", \"width\": 0.5}}, \"type\": \"bar\"}], \"barpolar\": [{\"marker\": {\"line\": {\"color\": \"#E5ECF6\", \"width\": 0.5}}, \"type\": \"barpolar\"}], \"carpet\": [{\"aaxis\": {\"endlinecolor\": \"#2a3f5f\", \"gridcolor\": \"white\", \"linecolor\": \"white\", \"minorgridcolor\": \"white\", \"startlinecolor\": \"#2a3f5f\"}, \"baxis\": {\"endlinecolor\": \"#2a3f5f\", \"gridcolor\": \"white\", \"linecolor\": \"white\", \"minorgridcolor\": \"white\", \"startlinecolor\": \"#2a3f5f\"}, \"type\": \"carpet\"}], \"choropleth\": [{\"colorbar\": {\"outlinewidth\": 0, \"ticks\": \"\"}, \"type\": \"choropleth\"}], \"contour\": [{\"colorbar\": {\"outlinewidth\": 0, \"ticks\": \"\"}, \"colorscale\": [[0.0, \"#0d0887\"], [0.1111111111111111, \"#46039f\"], [0.2222222222222222, \"#7201a8\"], [0.3333333333333333, \"#9c179e\"], [0.4444444444444444, \"#bd3786\"], [0.5555555555555556, \"#d8576b\"], [0.6666666666666666, \"#ed7953\"], [0.7777777777777778, \"#fb9f3a\"], [0.8888888888888888, \"#fdca26\"], [1.0, \"#f0f921\"]], \"type\": \"contour\"}], \"contourcarpet\": [{\"colorbar\": {\"outlinewidth\": 0, \"ticks\": \"\"}, \"type\": \"contourcarpet\"}], \"heatmap\": [{\"colorbar\": {\"outlinewidth\": 0, \"ticks\": \"\"}, \"colorscale\": [[0.0, \"#0d0887\"], [0.1111111111111111, \"#46039f\"], [0.2222222222222222, \"#7201a8\"], [0.3333333333333333, \"#9c179e\"], [0.4444444444444444, \"#bd3786\"], [0.5555555555555556, \"#d8576b\"], [0.6666666666666666, \"#ed7953\"], [0.7777777777777778, \"#fb9f3a\"], [0.8888888888888888, \"#fdca26\"], [1.0, \"#f0f921\"]], \"type\": \"heatmap\"}], \"heatmapgl\": [{\"colorbar\": {\"outlinewidth\": 0, \"ticks\": \"\"}, \"colorscale\": [[0.0, \"#0d0887\"], [0.1111111111111111, \"#46039f\"], [0.2222222222222222, \"#7201a8\"], [0.3333333333333333, \"#9c179e\"], [0.4444444444444444, \"#bd3786\"], [0.5555555555555556, \"#d8576b\"], [0.6666666666666666, \"#ed7953\"], [0.7777777777777778, \"#fb9f3a\"], [0.8888888888888888, \"#fdca26\"], [1.0, \"#f0f921\"]], \"type\": \"heatmapgl\"}], \"histogram\": [{\"marker\": {\"colorbar\": {\"outlinewidth\": 0, \"ticks\": \"\"}}, \"type\": \"histogram\"}], \"histogram2d\": [{\"colorbar\": {\"outlinewidth\": 0, \"ticks\": \"\"}, \"colorscale\": [[0.0, \"#0d0887\"], [0.1111111111111111, \"#46039f\"], [0.2222222222222222, \"#7201a8\"], [0.3333333333333333, \"#9c179e\"], [0.4444444444444444, \"#bd3786\"], [0.5555555555555556, \"#d8576b\"], [0.6666666666666666, \"#ed7953\"], [0.7777777777777778, \"#fb9f3a\"], [0.8888888888888888, \"#fdca26\"], [1.0, \"#f0f921\"]], \"type\": \"histogram2d\"}], \"histogram2dcontour\": [{\"colorbar\": {\"outlinewidth\": 0, \"ticks\": \"\"}, \"colorscale\": [[0.0, \"#0d0887\"], [0.1111111111111111, \"#46039f\"], [0.2222222222222222, \"#7201a8\"], [0.3333333333333333, \"#9c179e\"], [0.4444444444444444, \"#bd3786\"], [0.5555555555555556, \"#d8576b\"], [0.6666666666666666, \"#ed7953\"], [0.7777777777777778, \"#fb9f3a\"], [0.8888888888888888, \"#fdca26\"], [1.0, \"#f0f921\"]], \"type\": \"histogram2dcontour\"}], \"mesh3d\": [{\"colorbar\": {\"outlinewidth\": 0, \"ticks\": \"\"}, \"type\": \"mesh3d\"}], \"parcoords\": [{\"line\": {\"colorbar\": {\"outlinewidth\": 0, \"ticks\": \"\"}}, \"type\": \"parcoords\"}], \"pie\": [{\"automargin\": true, \"type\": \"pie\"}], \"scatter\": [{\"marker\": {\"colorbar\": {\"outlinewidth\": 0, \"ticks\": \"\"}}, \"type\": \"scatter\"}], \"scatter3d\": [{\"line\": {\"colorbar\": {\"outlinewidth\": 0, \"ticks\": \"\"}}, \"marker\": {\"colorbar\": {\"outlinewidth\": 0, \"ticks\": \"\"}}, \"type\": \"scatter3d\"}], \"scattercarpet\": [{\"marker\": {\"colorbar\": {\"outlinewidth\": 0, \"ticks\": \"\"}}, \"type\": \"scattercarpet\"}], \"scattergeo\": [{\"marker\": {\"colorbar\": {\"outlinewidth\": 0, \"ticks\": \"\"}}, \"type\": \"scattergeo\"}], \"scattergl\": [{\"marker\": {\"colorbar\": {\"outlinewidth\": 0, \"ticks\": \"\"}}, \"type\": \"scattergl\"}], \"scattermapbox\": [{\"marker\": {\"colorbar\": {\"outlinewidth\": 0, \"ticks\": \"\"}}, \"type\": \"scattermapbox\"}], \"scatterpolar\": [{\"marker\": {\"colorbar\": {\"outlinewidth\": 0, \"ticks\": \"\"}}, \"type\": \"scatterpolar\"}], \"scatterpolargl\": [{\"marker\": {\"colorbar\": {\"outlinewidth\": 0, \"ticks\": \"\"}}, \"type\": \"scatterpolargl\"}], \"scatterternary\": [{\"marker\": {\"colorbar\": {\"outlinewidth\": 0, \"ticks\": \"\"}}, \"type\": \"scatterternary\"}], \"surface\": [{\"colorbar\": {\"outlinewidth\": 0, \"ticks\": \"\"}, \"colorscale\": [[0.0, \"#0d0887\"], [0.1111111111111111, \"#46039f\"], [0.2222222222222222, \"#7201a8\"], [0.3333333333333333, \"#9c179e\"], [0.4444444444444444, \"#bd3786\"], [0.5555555555555556, \"#d8576b\"], [0.6666666666666666, \"#ed7953\"], [0.7777777777777778, \"#fb9f3a\"], [0.8888888888888888, \"#fdca26\"], [1.0, \"#f0f921\"]], \"type\": \"surface\"}], \"table\": [{\"cells\": {\"fill\": {\"color\": \"#EBF0F8\"}, \"line\": {\"color\": \"white\"}}, \"header\": {\"fill\": {\"color\": \"#C8D4E3\"}, \"line\": {\"color\": \"white\"}}, \"type\": \"table\"}]}, \"layout\": {\"annotationdefaults\": {\"arrowcolor\": \"#2a3f5f\", \"arrowhead\": 0, \"arrowwidth\": 1}, \"coloraxis\": {\"colorbar\": {\"outlinewidth\": 0, \"ticks\": \"\"}}, \"colorscale\": {\"diverging\": [[0, \"#8e0152\"], [0.1, \"#c51b7d\"], [0.2, \"#de77ae\"], [0.3, \"#f1b6da\"], [0.4, \"#fde0ef\"], [0.5, \"#f7f7f7\"], [0.6, \"#e6f5d0\"], [0.7, \"#b8e186\"], [0.8, \"#7fbc41\"], [0.9, \"#4d9221\"], [1, \"#276419\"]], \"sequential\": [[0.0, \"#0d0887\"], [0.1111111111111111, \"#46039f\"], [0.2222222222222222, \"#7201a8\"], [0.3333333333333333, \"#9c179e\"], [0.4444444444444444, \"#bd3786\"], [0.5555555555555556, \"#d8576b\"], [0.6666666666666666, \"#ed7953\"], [0.7777777777777778, \"#fb9f3a\"], [0.8888888888888888, \"#fdca26\"], [1.0, \"#f0f921\"]], \"sequentialminus\": [[0.0, \"#0d0887\"], [0.1111111111111111, \"#46039f\"], [0.2222222222222222, \"#7201a8\"], [0.3333333333333333, \"#9c179e\"], [0.4444444444444444, \"#bd3786\"], [0.5555555555555556, \"#d8576b\"], [0.6666666666666666, \"#ed7953\"], [0.7777777777777778, \"#fb9f3a\"], [0.8888888888888888, \"#fdca26\"], [1.0, \"#f0f921\"]]}, \"colorway\": [\"#636efa\", \"#EF553B\", \"#00cc96\", \"#ab63fa\", \"#FFA15A\", \"#19d3f3\", \"#FF6692\", \"#B6E880\", \"#FF97FF\", \"#FECB52\"], \"font\": {\"color\": \"#2a3f5f\"}, \"geo\": {\"bgcolor\": \"white\", \"lakecolor\": \"white\", \"landcolor\": \"#E5ECF6\", \"showlakes\": true, \"showland\": true, \"subunitcolor\": \"white\"}, \"hoverlabel\": {\"align\": \"left\"}, \"hovermode\": \"closest\", \"mapbox\": {\"style\": \"light\"}, \"paper_bgcolor\": \"white\", \"plot_bgcolor\": \"#E5ECF6\", \"polar\": {\"angularaxis\": {\"gridcolor\": \"white\", \"linecolor\": \"white\", \"ticks\": \"\"}, \"bgcolor\": \"#E5ECF6\", \"radialaxis\": {\"gridcolor\": \"white\", \"linecolor\": \"white\", \"ticks\": \"\"}}, \"scene\": {\"xaxis\": {\"backgroundcolor\": \"#E5ECF6\", \"gridcolor\": \"white\", \"gridwidth\": 2, \"linecolor\": \"white\", \"showbackground\": true, \"ticks\": \"\", \"zerolinecolor\": \"white\"}, \"yaxis\": {\"backgroundcolor\": \"#E5ECF6\", \"gridcolor\": \"white\", \"gridwidth\": 2, \"linecolor\": \"white\", \"showbackground\": true, \"ticks\": \"\", \"zerolinecolor\": \"white\"}, \"zaxis\": {\"backgroundcolor\": \"#E5ECF6\", \"gridcolor\": \"white\", \"gridwidth\": 2, \"linecolor\": \"white\", \"showbackground\": true, \"ticks\": \"\", \"zerolinecolor\": \"white\"}}, \"shapedefaults\": {\"line\": {\"color\": \"#2a3f5f\"}}, \"ternary\": {\"aaxis\": {\"gridcolor\": \"white\", \"linecolor\": \"white\", \"ticks\": \"\"}, \"baxis\": {\"gridcolor\": \"white\", \"linecolor\": \"white\", \"ticks\": \"\"}, \"bgcolor\": \"#E5ECF6\", \"caxis\": {\"gridcolor\": \"white\", \"linecolor\": \"white\", \"ticks\": \"\"}}, \"title\": {\"x\": 0.05}, \"xaxis\": {\"automargin\": true, \"gridcolor\": \"white\", \"linecolor\": \"white\", \"ticks\": \"\", \"title\": {\"standoff\": 15}, \"zerolinecolor\": \"white\", \"zerolinewidth\": 2}, \"yaxis\": {\"automargin\": true, \"gridcolor\": \"white\", \"linecolor\": \"white\", \"ticks\": \"\", \"title\": {\"standoff\": 15}, \"zerolinecolor\": \"white\", \"zerolinewidth\": 2}}}, \"title\": {\"font\": {\"color\": \"#4D5663\"}}, \"xaxis\": {\"gridcolor\": \"#E1E5ED\", \"showgrid\": true, \"tickfont\": {\"color\": \"#4D5663\"}, \"title\": {\"font\": {\"color\": \"#4D5663\"}, \"text\": \"\"}, \"zerolinecolor\": \"#E1E5ED\"}, \"yaxis\": {\"gridcolor\": \"#E1E5ED\", \"showgrid\": true, \"tickfont\": {\"color\": \"#4D5663\"}, \"title\": {\"font\": {\"color\": \"#4D5663\"}, \"text\": \"\"}, \"zerolinecolor\": \"#E1E5ED\"}},\n",
       "                        {\"responsive\": true}\n",
       "                    ).then(function(){\n",
       "                            \n",
       "var gd = document.getElementById('110e8273-ecd3-49e6-81ab-fdc9b8386e9e');\n",
       "var x = new MutationObserver(function (mutations, observer) {{\n",
       "        var display = window.getComputedStyle(gd).display;\n",
       "        if (!display || display === 'none') {{\n",
       "            console.log([gd, 'removed!']);\n",
       "            Plotly.purge(gd);\n",
       "            observer.disconnect();\n",
       "        }}\n",
       "}});\n",
       "\n",
       "// Listen for the removal of the full notebook cells\n",
       "var notebookContainer = gd.closest('#notebook-container');\n",
       "if (notebookContainer) {{\n",
       "    x.observe(notebookContainer, {childList: true});\n",
       "}}\n",
       "\n",
       "// Listen for the clearing of the current output cell\n",
       "var outputEl = gd.closest('.output');\n",
       "if (outputEl) {{\n",
       "    x.observe(outputEl, {childList: true});\n",
       "}}\n",
       "\n",
       "                        })\n",
       "                };\n",
       "                });\n",
       "            </script>\n",
       "        </div>"
      ]
     },
     "metadata": {},
     "output_type": "display_data"
    }
   ],
   "source": [
    "fig = df.iplot(asFigure=True)\n",
    "fig.show()"
   ]
  },
  {
   "cell_type": "code",
   "execution_count": 3,
   "metadata": {},
   "outputs": [],
   "source": [
    "df= pd.read_csv(\"Training_history.csv\")"
   ]
  },
  {
   "cell_type": "code",
   "execution_count": 7,
   "metadata": {},
   "outputs": [
    {
     "data": {
      "application/vnd.plotly.v1+json": {
       "config": {
        "plotlyServerURL": "https://plot.ly"
       },
       "data": [
        {
         "histfunc": "count",
         "histnorm": "",
         "marker": {
          "color": "rgba(255, 153, 51, 1.0)",
          "line": {
           "color": "#4D5663",
           "width": 1.3
          }
         },
         "name": "loss",
         "nbinsx": 100,
         "opacity": 0.8,
         "orientation": "v",
         "type": "histogram",
         "x": [
          0.6222202529843222,
          0.5650086342888391,
          0.4896642413715388,
          0.4470769127209981,
          0.4443748561111656,
          0.387733720292981,
          0.3524059483268917,
          0.3298503303487829,
          0.29854646921157835,
          0.34759412564941355,
          0.3326632161935171,
          0.2719275407343103,
          0.2437851275946643,
          0.2543489138285319,
          0.19558363707873644,
          0.23813608558785995,
          0.2224415590699087,
          0.20380762649462528,
          0.22408114693708867,
          0.19509794298034386,
          0.14090897838274638,
          0.18754960782825947,
          0.1574478544444846,
          0.16599090086917082,
          0.1650583876184369,
          0.11999771974030755,
          0.1304517007004973,
          0.16984768683711687,
          0.1414471206148999,
          0.1053827687497907,
          0.1009753380445826,
          0.1408252005009043,
          0.10513520358292848,
          0.12302992641925813,
          0.09129279439381303,
          0.10188682252328668,
          0.10396436493013153,
          0.08781588375068351,
          0.1370496541261673,
          0.14042108969108474,
          0.12426435028513272,
          0.10302326373205888,
          0.06476022811269,
          0.07967675717285015,
          0.06246529833332405,
          0.05880573215718205,
          0.09382069874554873,
          0.08610063882532136,
          0.13994819935936256,
          0.06783600735167662,
          0.10292593313607612,
          0.065324245108254,
          0.10756037700546267,
          0.06354892042775949,
          0.08004449639194364,
          0.09487094280209292,
          0.038661853907008964,
          0.1063124996816252,
          0.07210784854254866,
          0.12394405209503118,
          0.10387785547106658,
          0.09324080752671364,
          0.1081225075915256,
          0.08261126922381004,
          0.07736660646987241,
          0.14109049174284574,
          0.05198453983054465,
          0.05598949950388414,
          0.06329569034278393,
          0.1030033299078544,
          0.06196572858135443,
          0.06806213955084482,
          0.05718940340807574,
          0.07274828062411523,
          0.06385959056206048,
          0.059668425439546514,
          0.0512880617377642,
          0.04745383601910716,
          0.0716653530292163,
          0.04386800910102441,
          0.04595260642118902,
          0.033951519950974306,
          0.08736617341887631,
          0.0739194387820043,
          0.03479836823656255,
          0.06939820252396417,
          0.09635417711383494,
          0.055078891762251024,
          0.06209095790982246,
          0.033631321659462685,
          0.04385018016167935,
          0.045852510646085615,
          0.04730077522496382,
          0.06443284203192133,
          0.05719013605579334,
          0.04213800482083137,
          0.07225592062189776,
          0.04358203407226993,
          0.05185766871268517,
          0.025668977105039983
         ]
        },
        {
         "histfunc": "count",
         "histnorm": "",
         "marker": {
          "color": "rgba(55, 128, 191, 1.0)",
          "line": {
           "color": "#4D5663",
           "width": 1.3
          }
         },
         "name": "val_loss",
         "nbinsx": 100,
         "opacity": 0.8,
         "orientation": "v",
         "type": "histogram",
         "x": [
          0.5715140700340271,
          0.5384082719683647,
          0.5472840145230293,
          0.4080768600106239,
          0.35561270713806153,
          0.35837877914309496,
          0.3106120191514492,
          0.2807018429040909,
          0.21308251842856407,
          0.32790435254573824,
          0.2788935974240303,
          0.2998070027679205,
          0.1849620398133993,
          0.2596390731632709,
          0.20192578993737695,
          0.23562978580594066,
          0.209383824467659,
          0.17392886988818645,
          0.20971036702394485,
          0.1511866133660078,
          0.1052333153784275,
          0.16747681982815266,
          0.10481724701821804,
          0.098328887950629,
          0.11286271177232265,
          0.15927430987358093,
          0.08924836292862892,
          0.16973545029759407,
          0.12026267126202585,
          0.08944657491520047,
          0.11878851242363453,
          0.09244750579819083,
          0.10027981270104648,
          0.08384238462895155,
          0.1203994220122695,
          0.07484044576995075,
          0.07813713047653438,
          0.07411108445376158,
          0.10950225871056317,
          0.0788709755986929,
          0.09632632741704583,
          0.1100657107308507,
          0.06263462221249938,
          0.11878056824207305,
          0.08254277240484953,
          0.08985986299812794,
          0.08164535369724035,
          0.05904691480100155,
          0.06319998530670999,
          0.05918561620637775,
          0.06858729012310505,
          0.07073886757716538,
          0.05702887196093798,
          0.05450492026284337,
          0.055478364694863565,
          0.054439747706055634,
          0.06067479308694601,
          0.051475003361701965,
          0.05692995531717315,
          0.07799770683050156,
          0.054974352475255735,
          0.051806123345158994,
          0.05960842687636614,
          0.060294776782393464,
          0.056366689270362265,
          0.062121400982141486,
          0.05068789434153586,
          0.07761768111959101,
          0.054829469881951816,
          0.05027839011745528,
          0.04815672984113917,
          0.055925720371305936,
          0.048236507456749685,
          0.05406456929631531,
          0.06209220560267568,
          0.04938445350853726,
          0.047071207663975656,
          0.04710047005210072,
          0.05744649330154061,
          0.046746415784582496,
          0.07504478705232033,
          0.060415386501699676,
          0.04454277106560767,
          0.043662100099027164,
          0.04201455577276647,
          0.042472707689739764,
          0.04268385702744126,
          0.050911707105115056,
          0.04249840264674276,
          0.044883650378324084,
          0.04377385595580563,
          0.04396154428832233,
          0.07013468879449647,
          0.054138154664542526,
          0.04283361649140716,
          0.055003646324621513,
          0.055705165781546384,
          0.04428801557514817,
          0.040523080504499376,
          0.0424986828584224
         ]
        }
       ],
       "layout": {
        "barmode": "overlay",
        "legend": {
         "bgcolor": "#F5F6F9",
         "font": {
          "color": "#4D5663"
         }
        },
        "paper_bgcolor": "#F5F6F9",
        "plot_bgcolor": "#F5F6F9",
        "template": {
         "data": {
          "bar": [
           {
            "error_x": {
             "color": "#2a3f5f"
            },
            "error_y": {
             "color": "#2a3f5f"
            },
            "marker": {
             "line": {
              "color": "#E5ECF6",
              "width": 0.5
             }
            },
            "type": "bar"
           }
          ],
          "barpolar": [
           {
            "marker": {
             "line": {
              "color": "#E5ECF6",
              "width": 0.5
             }
            },
            "type": "barpolar"
           }
          ],
          "carpet": [
           {
            "aaxis": {
             "endlinecolor": "#2a3f5f",
             "gridcolor": "white",
             "linecolor": "white",
             "minorgridcolor": "white",
             "startlinecolor": "#2a3f5f"
            },
            "baxis": {
             "endlinecolor": "#2a3f5f",
             "gridcolor": "white",
             "linecolor": "white",
             "minorgridcolor": "white",
             "startlinecolor": "#2a3f5f"
            },
            "type": "carpet"
           }
          ],
          "choropleth": [
           {
            "colorbar": {
             "outlinewidth": 0,
             "ticks": ""
            },
            "type": "choropleth"
           }
          ],
          "contour": [
           {
            "colorbar": {
             "outlinewidth": 0,
             "ticks": ""
            },
            "colorscale": [
             [
              0,
              "#0d0887"
             ],
             [
              0.1111111111111111,
              "#46039f"
             ],
             [
              0.2222222222222222,
              "#7201a8"
             ],
             [
              0.3333333333333333,
              "#9c179e"
             ],
             [
              0.4444444444444444,
              "#bd3786"
             ],
             [
              0.5555555555555556,
              "#d8576b"
             ],
             [
              0.6666666666666666,
              "#ed7953"
             ],
             [
              0.7777777777777778,
              "#fb9f3a"
             ],
             [
              0.8888888888888888,
              "#fdca26"
             ],
             [
              1,
              "#f0f921"
             ]
            ],
            "type": "contour"
           }
          ],
          "contourcarpet": [
           {
            "colorbar": {
             "outlinewidth": 0,
             "ticks": ""
            },
            "type": "contourcarpet"
           }
          ],
          "heatmap": [
           {
            "colorbar": {
             "outlinewidth": 0,
             "ticks": ""
            },
            "colorscale": [
             [
              0,
              "#0d0887"
             ],
             [
              0.1111111111111111,
              "#46039f"
             ],
             [
              0.2222222222222222,
              "#7201a8"
             ],
             [
              0.3333333333333333,
              "#9c179e"
             ],
             [
              0.4444444444444444,
              "#bd3786"
             ],
             [
              0.5555555555555556,
              "#d8576b"
             ],
             [
              0.6666666666666666,
              "#ed7953"
             ],
             [
              0.7777777777777778,
              "#fb9f3a"
             ],
             [
              0.8888888888888888,
              "#fdca26"
             ],
             [
              1,
              "#f0f921"
             ]
            ],
            "type": "heatmap"
           }
          ],
          "heatmapgl": [
           {
            "colorbar": {
             "outlinewidth": 0,
             "ticks": ""
            },
            "colorscale": [
             [
              0,
              "#0d0887"
             ],
             [
              0.1111111111111111,
              "#46039f"
             ],
             [
              0.2222222222222222,
              "#7201a8"
             ],
             [
              0.3333333333333333,
              "#9c179e"
             ],
             [
              0.4444444444444444,
              "#bd3786"
             ],
             [
              0.5555555555555556,
              "#d8576b"
             ],
             [
              0.6666666666666666,
              "#ed7953"
             ],
             [
              0.7777777777777778,
              "#fb9f3a"
             ],
             [
              0.8888888888888888,
              "#fdca26"
             ],
             [
              1,
              "#f0f921"
             ]
            ],
            "type": "heatmapgl"
           }
          ],
          "histogram": [
           {
            "marker": {
             "colorbar": {
              "outlinewidth": 0,
              "ticks": ""
             }
            },
            "type": "histogram"
           }
          ],
          "histogram2d": [
           {
            "colorbar": {
             "outlinewidth": 0,
             "ticks": ""
            },
            "colorscale": [
             [
              0,
              "#0d0887"
             ],
             [
              0.1111111111111111,
              "#46039f"
             ],
             [
              0.2222222222222222,
              "#7201a8"
             ],
             [
              0.3333333333333333,
              "#9c179e"
             ],
             [
              0.4444444444444444,
              "#bd3786"
             ],
             [
              0.5555555555555556,
              "#d8576b"
             ],
             [
              0.6666666666666666,
              "#ed7953"
             ],
             [
              0.7777777777777778,
              "#fb9f3a"
             ],
             [
              0.8888888888888888,
              "#fdca26"
             ],
             [
              1,
              "#f0f921"
             ]
            ],
            "type": "histogram2d"
           }
          ],
          "histogram2dcontour": [
           {
            "colorbar": {
             "outlinewidth": 0,
             "ticks": ""
            },
            "colorscale": [
             [
              0,
              "#0d0887"
             ],
             [
              0.1111111111111111,
              "#46039f"
             ],
             [
              0.2222222222222222,
              "#7201a8"
             ],
             [
              0.3333333333333333,
              "#9c179e"
             ],
             [
              0.4444444444444444,
              "#bd3786"
             ],
             [
              0.5555555555555556,
              "#d8576b"
             ],
             [
              0.6666666666666666,
              "#ed7953"
             ],
             [
              0.7777777777777778,
              "#fb9f3a"
             ],
             [
              0.8888888888888888,
              "#fdca26"
             ],
             [
              1,
              "#f0f921"
             ]
            ],
            "type": "histogram2dcontour"
           }
          ],
          "mesh3d": [
           {
            "colorbar": {
             "outlinewidth": 0,
             "ticks": ""
            },
            "type": "mesh3d"
           }
          ],
          "parcoords": [
           {
            "line": {
             "colorbar": {
              "outlinewidth": 0,
              "ticks": ""
             }
            },
            "type": "parcoords"
           }
          ],
          "pie": [
           {
            "automargin": true,
            "type": "pie"
           }
          ],
          "scatter": [
           {
            "marker": {
             "colorbar": {
              "outlinewidth": 0,
              "ticks": ""
             }
            },
            "type": "scatter"
           }
          ],
          "scatter3d": [
           {
            "line": {
             "colorbar": {
              "outlinewidth": 0,
              "ticks": ""
             }
            },
            "marker": {
             "colorbar": {
              "outlinewidth": 0,
              "ticks": ""
             }
            },
            "type": "scatter3d"
           }
          ],
          "scattercarpet": [
           {
            "marker": {
             "colorbar": {
              "outlinewidth": 0,
              "ticks": ""
             }
            },
            "type": "scattercarpet"
           }
          ],
          "scattergeo": [
           {
            "marker": {
             "colorbar": {
              "outlinewidth": 0,
              "ticks": ""
             }
            },
            "type": "scattergeo"
           }
          ],
          "scattergl": [
           {
            "marker": {
             "colorbar": {
              "outlinewidth": 0,
              "ticks": ""
             }
            },
            "type": "scattergl"
           }
          ],
          "scattermapbox": [
           {
            "marker": {
             "colorbar": {
              "outlinewidth": 0,
              "ticks": ""
             }
            },
            "type": "scattermapbox"
           }
          ],
          "scatterpolar": [
           {
            "marker": {
             "colorbar": {
              "outlinewidth": 0,
              "ticks": ""
             }
            },
            "type": "scatterpolar"
           }
          ],
          "scatterpolargl": [
           {
            "marker": {
             "colorbar": {
              "outlinewidth": 0,
              "ticks": ""
             }
            },
            "type": "scatterpolargl"
           }
          ],
          "scatterternary": [
           {
            "marker": {
             "colorbar": {
              "outlinewidth": 0,
              "ticks": ""
             }
            },
            "type": "scatterternary"
           }
          ],
          "surface": [
           {
            "colorbar": {
             "outlinewidth": 0,
             "ticks": ""
            },
            "colorscale": [
             [
              0,
              "#0d0887"
             ],
             [
              0.1111111111111111,
              "#46039f"
             ],
             [
              0.2222222222222222,
              "#7201a8"
             ],
             [
              0.3333333333333333,
              "#9c179e"
             ],
             [
              0.4444444444444444,
              "#bd3786"
             ],
             [
              0.5555555555555556,
              "#d8576b"
             ],
             [
              0.6666666666666666,
              "#ed7953"
             ],
             [
              0.7777777777777778,
              "#fb9f3a"
             ],
             [
              0.8888888888888888,
              "#fdca26"
             ],
             [
              1,
              "#f0f921"
             ]
            ],
            "type": "surface"
           }
          ],
          "table": [
           {
            "cells": {
             "fill": {
              "color": "#EBF0F8"
             },
             "line": {
              "color": "white"
             }
            },
            "header": {
             "fill": {
              "color": "#C8D4E3"
             },
             "line": {
              "color": "white"
             }
            },
            "type": "table"
           }
          ]
         },
         "layout": {
          "annotationdefaults": {
           "arrowcolor": "#2a3f5f",
           "arrowhead": 0,
           "arrowwidth": 1
          },
          "coloraxis": {
           "colorbar": {
            "outlinewidth": 0,
            "ticks": ""
           }
          },
          "colorscale": {
           "diverging": [
            [
             0,
             "#8e0152"
            ],
            [
             0.1,
             "#c51b7d"
            ],
            [
             0.2,
             "#de77ae"
            ],
            [
             0.3,
             "#f1b6da"
            ],
            [
             0.4,
             "#fde0ef"
            ],
            [
             0.5,
             "#f7f7f7"
            ],
            [
             0.6,
             "#e6f5d0"
            ],
            [
             0.7,
             "#b8e186"
            ],
            [
             0.8,
             "#7fbc41"
            ],
            [
             0.9,
             "#4d9221"
            ],
            [
             1,
             "#276419"
            ]
           ],
           "sequential": [
            [
             0,
             "#0d0887"
            ],
            [
             0.1111111111111111,
             "#46039f"
            ],
            [
             0.2222222222222222,
             "#7201a8"
            ],
            [
             0.3333333333333333,
             "#9c179e"
            ],
            [
             0.4444444444444444,
             "#bd3786"
            ],
            [
             0.5555555555555556,
             "#d8576b"
            ],
            [
             0.6666666666666666,
             "#ed7953"
            ],
            [
             0.7777777777777778,
             "#fb9f3a"
            ],
            [
             0.8888888888888888,
             "#fdca26"
            ],
            [
             1,
             "#f0f921"
            ]
           ],
           "sequentialminus": [
            [
             0,
             "#0d0887"
            ],
            [
             0.1111111111111111,
             "#46039f"
            ],
            [
             0.2222222222222222,
             "#7201a8"
            ],
            [
             0.3333333333333333,
             "#9c179e"
            ],
            [
             0.4444444444444444,
             "#bd3786"
            ],
            [
             0.5555555555555556,
             "#d8576b"
            ],
            [
             0.6666666666666666,
             "#ed7953"
            ],
            [
             0.7777777777777778,
             "#fb9f3a"
            ],
            [
             0.8888888888888888,
             "#fdca26"
            ],
            [
             1,
             "#f0f921"
            ]
           ]
          },
          "colorway": [
           "#636efa",
           "#EF553B",
           "#00cc96",
           "#ab63fa",
           "#FFA15A",
           "#19d3f3",
           "#FF6692",
           "#B6E880",
           "#FF97FF",
           "#FECB52"
          ],
          "font": {
           "color": "#2a3f5f"
          },
          "geo": {
           "bgcolor": "white",
           "lakecolor": "white",
           "landcolor": "#E5ECF6",
           "showlakes": true,
           "showland": true,
           "subunitcolor": "white"
          },
          "hoverlabel": {
           "align": "left"
          },
          "hovermode": "closest",
          "mapbox": {
           "style": "light"
          },
          "paper_bgcolor": "white",
          "plot_bgcolor": "#E5ECF6",
          "polar": {
           "angularaxis": {
            "gridcolor": "white",
            "linecolor": "white",
            "ticks": ""
           },
           "bgcolor": "#E5ECF6",
           "radialaxis": {
            "gridcolor": "white",
            "linecolor": "white",
            "ticks": ""
           }
          },
          "scene": {
           "xaxis": {
            "backgroundcolor": "#E5ECF6",
            "gridcolor": "white",
            "gridwidth": 2,
            "linecolor": "white",
            "showbackground": true,
            "ticks": "",
            "zerolinecolor": "white"
           },
           "yaxis": {
            "backgroundcolor": "#E5ECF6",
            "gridcolor": "white",
            "gridwidth": 2,
            "linecolor": "white",
            "showbackground": true,
            "ticks": "",
            "zerolinecolor": "white"
           },
           "zaxis": {
            "backgroundcolor": "#E5ECF6",
            "gridcolor": "white",
            "gridwidth": 2,
            "linecolor": "white",
            "showbackground": true,
            "ticks": "",
            "zerolinecolor": "white"
           }
          },
          "shapedefaults": {
           "line": {
            "color": "#2a3f5f"
           }
          },
          "ternary": {
           "aaxis": {
            "gridcolor": "white",
            "linecolor": "white",
            "ticks": ""
           },
           "baxis": {
            "gridcolor": "white",
            "linecolor": "white",
            "ticks": ""
           },
           "bgcolor": "#E5ECF6",
           "caxis": {
            "gridcolor": "white",
            "linecolor": "white",
            "ticks": ""
           }
          },
          "title": {
           "x": 0.05
          },
          "xaxis": {
           "automargin": true,
           "gridcolor": "white",
           "linecolor": "white",
           "ticks": "",
           "title": {
            "standoff": 15
           },
           "zerolinecolor": "white",
           "zerolinewidth": 2
          },
          "yaxis": {
           "automargin": true,
           "gridcolor": "white",
           "linecolor": "white",
           "ticks": "",
           "title": {
            "standoff": 15
           },
           "zerolinecolor": "white",
           "zerolinewidth": 2
          }
         }
        },
        "title": {
         "font": {
          "color": "#4D5663"
         }
        },
        "xaxis": {
         "gridcolor": "#E1E5ED",
         "showgrid": true,
         "tickfont": {
          "color": "#4D5663"
         },
         "title": {
          "font": {
           "color": "#4D5663"
          },
          "text": ""
         },
         "zerolinecolor": "#E1E5ED"
        },
        "yaxis": {
         "gridcolor": "#E1E5ED",
         "showgrid": true,
         "tickfont": {
          "color": "#4D5663"
         },
         "title": {
          "font": {
           "color": "#4D5663"
          },
          "text": ""
         },
         "zerolinecolor": "#E1E5ED"
        }
       }
      },
      "text/html": [
       "<div>\n",
       "        \n",
       "        \n",
       "            <div id=\"4c9d5714-07b7-4ad8-b2cc-eb37602e1c40\" class=\"plotly-graph-div\" style=\"height:525px; width:100%;\"></div>\n",
       "            <script type=\"text/javascript\">\n",
       "                require([\"plotly\"], function(Plotly) {\n",
       "                    window.PLOTLYENV=window.PLOTLYENV || {};\n",
       "                    \n",
       "                if (document.getElementById(\"4c9d5714-07b7-4ad8-b2cc-eb37602e1c40\")) {\n",
       "                    Plotly.newPlot(\n",
       "                        '4c9d5714-07b7-4ad8-b2cc-eb37602e1c40',\n",
       "                        [{\"histfunc\": \"count\", \"histnorm\": \"\", \"marker\": {\"color\": \"rgba(255, 153, 51, 1.0)\", \"line\": {\"color\": \"#4D5663\", \"width\": 1.3}}, \"name\": \"loss\", \"nbinsx\": 100, \"opacity\": 0.8, \"orientation\": \"v\", \"type\": \"histogram\", \"x\": [0.6222202529843222, 0.5650086342888391, 0.4896642413715388, 0.4470769127209981, 0.4443748561111656, 0.387733720292981, 0.3524059483268917, 0.3298503303487829, 0.29854646921157835, 0.34759412564941355, 0.3326632161935171, 0.2719275407343103, 0.2437851275946643, 0.2543489138285319, 0.19558363707873644, 0.23813608558785995, 0.2224415590699087, 0.20380762649462528, 0.22408114693708867, 0.19509794298034386, 0.14090897838274638, 0.18754960782825947, 0.1574478544444846, 0.16599090086917082, 0.1650583876184369, 0.11999771974030755, 0.1304517007004973, 0.16984768683711687, 0.1414471206148999, 0.1053827687497907, 0.1009753380445826, 0.1408252005009043, 0.10513520358292848, 0.12302992641925813, 0.09129279439381303, 0.10188682252328668, 0.10396436493013153, 0.08781588375068351, 0.1370496541261673, 0.14042108969108474, 0.12426435028513272, 0.10302326373205888, 0.06476022811269, 0.07967675717285015, 0.06246529833332405, 0.05880573215718205, 0.09382069874554873, 0.08610063882532136, 0.13994819935936256, 0.06783600735167662, 0.10292593313607612, 0.065324245108254, 0.10756037700546267, 0.06354892042775949, 0.08004449639194364, 0.09487094280209292, 0.038661853907008964, 0.1063124996816252, 0.07210784854254866, 0.12394405209503118, 0.10387785547106658, 0.09324080752671364, 0.1081225075915256, 0.08261126922381004, 0.07736660646987241, 0.14109049174284574, 0.05198453983054465, 0.05598949950388414, 0.06329569034278393, 0.1030033299078544, 0.06196572858135443, 0.06806213955084482, 0.05718940340807574, 0.07274828062411523, 0.06385959056206048, 0.059668425439546514, 0.0512880617377642, 0.04745383601910716, 0.0716653530292163, 0.04386800910102441, 0.04595260642118902, 0.033951519950974306, 0.08736617341887631, 0.0739194387820043, 0.03479836823656255, 0.06939820252396417, 0.09635417711383494, 0.055078891762251024, 0.06209095790982246, 0.033631321659462685, 0.04385018016167935, 0.045852510646085615, 0.04730077522496382, 0.06443284203192133, 0.05719013605579334, 0.04213800482083137, 0.07225592062189776, 0.04358203407226993, 0.05185766871268517, 0.025668977105039983]}, {\"histfunc\": \"count\", \"histnorm\": \"\", \"marker\": {\"color\": \"rgba(55, 128, 191, 1.0)\", \"line\": {\"color\": \"#4D5663\", \"width\": 1.3}}, \"name\": \"val_loss\", \"nbinsx\": 100, \"opacity\": 0.8, \"orientation\": \"v\", \"type\": \"histogram\", \"x\": [0.5715140700340271, 0.5384082719683647, 0.5472840145230293, 0.4080768600106239, 0.35561270713806153, 0.35837877914309496, 0.3106120191514492, 0.2807018429040909, 0.21308251842856407, 0.32790435254573824, 0.2788935974240303, 0.2998070027679205, 0.1849620398133993, 0.2596390731632709, 0.20192578993737695, 0.23562978580594066, 0.209383824467659, 0.17392886988818645, 0.20971036702394485, 0.1511866133660078, 0.1052333153784275, 0.16747681982815266, 0.10481724701821804, 0.098328887950629, 0.11286271177232265, 0.15927430987358093, 0.08924836292862892, 0.16973545029759407, 0.12026267126202585, 0.08944657491520047, 0.11878851242363453, 0.09244750579819083, 0.10027981270104648, 0.08384238462895155, 0.1203994220122695, 0.07484044576995075, 0.07813713047653438, 0.07411108445376158, 0.10950225871056317, 0.0788709755986929, 0.09632632741704583, 0.1100657107308507, 0.06263462221249938, 0.11878056824207305, 0.08254277240484953, 0.08985986299812794, 0.08164535369724035, 0.05904691480100155, 0.06319998530670999, 0.05918561620637775, 0.06858729012310505, 0.07073886757716538, 0.05702887196093798, 0.05450492026284337, 0.055478364694863565, 0.054439747706055634, 0.06067479308694601, 0.051475003361701965, 0.05692995531717315, 0.07799770683050156, 0.054974352475255735, 0.051806123345158994, 0.05960842687636614, 0.060294776782393464, 0.056366689270362265, 0.062121400982141486, 0.05068789434153586, 0.07761768111959101, 0.054829469881951816, 0.05027839011745528, 0.04815672984113917, 0.055925720371305936, 0.048236507456749685, 0.05406456929631531, 0.06209220560267568, 0.04938445350853726, 0.047071207663975656, 0.04710047005210072, 0.05744649330154061, 0.046746415784582496, 0.07504478705232033, 0.060415386501699676, 0.04454277106560767, 0.043662100099027164, 0.04201455577276647, 0.042472707689739764, 0.04268385702744126, 0.050911707105115056, 0.04249840264674276, 0.044883650378324084, 0.04377385595580563, 0.04396154428832233, 0.07013468879449647, 0.054138154664542526, 0.04283361649140716, 0.055003646324621513, 0.055705165781546384, 0.04428801557514817, 0.040523080504499376, 0.0424986828584224]}],\n",
       "                        {\"barmode\": \"overlay\", \"legend\": {\"bgcolor\": \"#F5F6F9\", \"font\": {\"color\": \"#4D5663\"}}, \"paper_bgcolor\": \"#F5F6F9\", \"plot_bgcolor\": \"#F5F6F9\", \"template\": {\"data\": {\"bar\": [{\"error_x\": {\"color\": \"#2a3f5f\"}, \"error_y\": {\"color\": \"#2a3f5f\"}, \"marker\": {\"line\": {\"color\": \"#E5ECF6\", \"width\": 0.5}}, \"type\": \"bar\"}], \"barpolar\": [{\"marker\": {\"line\": {\"color\": \"#E5ECF6\", \"width\": 0.5}}, \"type\": \"barpolar\"}], \"carpet\": [{\"aaxis\": {\"endlinecolor\": \"#2a3f5f\", \"gridcolor\": \"white\", \"linecolor\": \"white\", \"minorgridcolor\": \"white\", \"startlinecolor\": \"#2a3f5f\"}, \"baxis\": {\"endlinecolor\": \"#2a3f5f\", \"gridcolor\": \"white\", \"linecolor\": \"white\", \"minorgridcolor\": \"white\", \"startlinecolor\": \"#2a3f5f\"}, \"type\": \"carpet\"}], \"choropleth\": [{\"colorbar\": {\"outlinewidth\": 0, \"ticks\": \"\"}, \"type\": \"choropleth\"}], \"contour\": [{\"colorbar\": {\"outlinewidth\": 0, \"ticks\": \"\"}, \"colorscale\": [[0.0, \"#0d0887\"], [0.1111111111111111, \"#46039f\"], [0.2222222222222222, \"#7201a8\"], [0.3333333333333333, \"#9c179e\"], [0.4444444444444444, \"#bd3786\"], [0.5555555555555556, \"#d8576b\"], [0.6666666666666666, \"#ed7953\"], [0.7777777777777778, \"#fb9f3a\"], [0.8888888888888888, \"#fdca26\"], [1.0, \"#f0f921\"]], \"type\": \"contour\"}], \"contourcarpet\": [{\"colorbar\": {\"outlinewidth\": 0, \"ticks\": \"\"}, \"type\": \"contourcarpet\"}], \"heatmap\": [{\"colorbar\": {\"outlinewidth\": 0, \"ticks\": \"\"}, \"colorscale\": [[0.0, \"#0d0887\"], [0.1111111111111111, \"#46039f\"], [0.2222222222222222, \"#7201a8\"], [0.3333333333333333, \"#9c179e\"], [0.4444444444444444, \"#bd3786\"], [0.5555555555555556, \"#d8576b\"], [0.6666666666666666, \"#ed7953\"], [0.7777777777777778, \"#fb9f3a\"], [0.8888888888888888, \"#fdca26\"], [1.0, \"#f0f921\"]], \"type\": \"heatmap\"}], \"heatmapgl\": [{\"colorbar\": {\"outlinewidth\": 0, \"ticks\": \"\"}, \"colorscale\": [[0.0, \"#0d0887\"], [0.1111111111111111, \"#46039f\"], [0.2222222222222222, \"#7201a8\"], [0.3333333333333333, \"#9c179e\"], [0.4444444444444444, \"#bd3786\"], [0.5555555555555556, \"#d8576b\"], [0.6666666666666666, \"#ed7953\"], [0.7777777777777778, \"#fb9f3a\"], [0.8888888888888888, \"#fdca26\"], [1.0, \"#f0f921\"]], \"type\": \"heatmapgl\"}], \"histogram\": [{\"marker\": {\"colorbar\": {\"outlinewidth\": 0, \"ticks\": \"\"}}, \"type\": \"histogram\"}], \"histogram2d\": [{\"colorbar\": {\"outlinewidth\": 0, \"ticks\": \"\"}, \"colorscale\": [[0.0, \"#0d0887\"], [0.1111111111111111, \"#46039f\"], [0.2222222222222222, \"#7201a8\"], [0.3333333333333333, \"#9c179e\"], [0.4444444444444444, \"#bd3786\"], [0.5555555555555556, \"#d8576b\"], [0.6666666666666666, \"#ed7953\"], [0.7777777777777778, \"#fb9f3a\"], [0.8888888888888888, \"#fdca26\"], [1.0, \"#f0f921\"]], \"type\": \"histogram2d\"}], \"histogram2dcontour\": [{\"colorbar\": {\"outlinewidth\": 0, \"ticks\": \"\"}, \"colorscale\": [[0.0, \"#0d0887\"], [0.1111111111111111, \"#46039f\"], [0.2222222222222222, \"#7201a8\"], [0.3333333333333333, \"#9c179e\"], [0.4444444444444444, \"#bd3786\"], [0.5555555555555556, \"#d8576b\"], [0.6666666666666666, \"#ed7953\"], [0.7777777777777778, \"#fb9f3a\"], [0.8888888888888888, \"#fdca26\"], [1.0, \"#f0f921\"]], \"type\": \"histogram2dcontour\"}], \"mesh3d\": [{\"colorbar\": {\"outlinewidth\": 0, \"ticks\": \"\"}, \"type\": \"mesh3d\"}], \"parcoords\": [{\"line\": {\"colorbar\": {\"outlinewidth\": 0, \"ticks\": \"\"}}, \"type\": \"parcoords\"}], \"pie\": [{\"automargin\": true, \"type\": \"pie\"}], \"scatter\": [{\"marker\": {\"colorbar\": {\"outlinewidth\": 0, \"ticks\": \"\"}}, \"type\": \"scatter\"}], \"scatter3d\": [{\"line\": {\"colorbar\": {\"outlinewidth\": 0, \"ticks\": \"\"}}, \"marker\": {\"colorbar\": {\"outlinewidth\": 0, \"ticks\": \"\"}}, \"type\": \"scatter3d\"}], \"scattercarpet\": [{\"marker\": {\"colorbar\": {\"outlinewidth\": 0, \"ticks\": \"\"}}, \"type\": \"scattercarpet\"}], \"scattergeo\": [{\"marker\": {\"colorbar\": {\"outlinewidth\": 0, \"ticks\": \"\"}}, \"type\": \"scattergeo\"}], \"scattergl\": [{\"marker\": {\"colorbar\": {\"outlinewidth\": 0, \"ticks\": \"\"}}, \"type\": \"scattergl\"}], \"scattermapbox\": [{\"marker\": {\"colorbar\": {\"outlinewidth\": 0, \"ticks\": \"\"}}, \"type\": \"scattermapbox\"}], \"scatterpolar\": [{\"marker\": {\"colorbar\": {\"outlinewidth\": 0, \"ticks\": \"\"}}, \"type\": \"scatterpolar\"}], \"scatterpolargl\": [{\"marker\": {\"colorbar\": {\"outlinewidth\": 0, \"ticks\": \"\"}}, \"type\": \"scatterpolargl\"}], \"scatterternary\": [{\"marker\": {\"colorbar\": {\"outlinewidth\": 0, \"ticks\": \"\"}}, \"type\": \"scatterternary\"}], \"surface\": [{\"colorbar\": {\"outlinewidth\": 0, \"ticks\": \"\"}, \"colorscale\": [[0.0, \"#0d0887\"], [0.1111111111111111, \"#46039f\"], [0.2222222222222222, \"#7201a8\"], [0.3333333333333333, \"#9c179e\"], [0.4444444444444444, \"#bd3786\"], [0.5555555555555556, \"#d8576b\"], [0.6666666666666666, \"#ed7953\"], [0.7777777777777778, \"#fb9f3a\"], [0.8888888888888888, \"#fdca26\"], [1.0, \"#f0f921\"]], \"type\": \"surface\"}], \"table\": [{\"cells\": {\"fill\": {\"color\": \"#EBF0F8\"}, \"line\": {\"color\": \"white\"}}, \"header\": {\"fill\": {\"color\": \"#C8D4E3\"}, \"line\": {\"color\": \"white\"}}, \"type\": \"table\"}]}, \"layout\": {\"annotationdefaults\": {\"arrowcolor\": \"#2a3f5f\", \"arrowhead\": 0, \"arrowwidth\": 1}, \"coloraxis\": {\"colorbar\": {\"outlinewidth\": 0, \"ticks\": \"\"}}, \"colorscale\": {\"diverging\": [[0, \"#8e0152\"], [0.1, \"#c51b7d\"], [0.2, \"#de77ae\"], [0.3, \"#f1b6da\"], [0.4, \"#fde0ef\"], [0.5, \"#f7f7f7\"], [0.6, \"#e6f5d0\"], [0.7, \"#b8e186\"], [0.8, \"#7fbc41\"], [0.9, \"#4d9221\"], [1, \"#276419\"]], \"sequential\": [[0.0, \"#0d0887\"], [0.1111111111111111, \"#46039f\"], [0.2222222222222222, \"#7201a8\"], [0.3333333333333333, \"#9c179e\"], [0.4444444444444444, \"#bd3786\"], [0.5555555555555556, \"#d8576b\"], [0.6666666666666666, \"#ed7953\"], [0.7777777777777778, \"#fb9f3a\"], [0.8888888888888888, \"#fdca26\"], [1.0, \"#f0f921\"]], \"sequentialminus\": [[0.0, \"#0d0887\"], [0.1111111111111111, \"#46039f\"], [0.2222222222222222, \"#7201a8\"], [0.3333333333333333, \"#9c179e\"], [0.4444444444444444, \"#bd3786\"], [0.5555555555555556, \"#d8576b\"], [0.6666666666666666, \"#ed7953\"], [0.7777777777777778, \"#fb9f3a\"], [0.8888888888888888, \"#fdca26\"], [1.0, \"#f0f921\"]]}, \"colorway\": [\"#636efa\", \"#EF553B\", \"#00cc96\", \"#ab63fa\", \"#FFA15A\", \"#19d3f3\", \"#FF6692\", \"#B6E880\", \"#FF97FF\", \"#FECB52\"], \"font\": {\"color\": \"#2a3f5f\"}, \"geo\": {\"bgcolor\": \"white\", \"lakecolor\": \"white\", \"landcolor\": \"#E5ECF6\", \"showlakes\": true, \"showland\": true, \"subunitcolor\": \"white\"}, \"hoverlabel\": {\"align\": \"left\"}, \"hovermode\": \"closest\", \"mapbox\": {\"style\": \"light\"}, \"paper_bgcolor\": \"white\", \"plot_bgcolor\": \"#E5ECF6\", \"polar\": {\"angularaxis\": {\"gridcolor\": \"white\", \"linecolor\": \"white\", \"ticks\": \"\"}, \"bgcolor\": \"#E5ECF6\", \"radialaxis\": {\"gridcolor\": \"white\", \"linecolor\": \"white\", \"ticks\": \"\"}}, \"scene\": {\"xaxis\": {\"backgroundcolor\": \"#E5ECF6\", \"gridcolor\": \"white\", \"gridwidth\": 2, \"linecolor\": \"white\", \"showbackground\": true, \"ticks\": \"\", \"zerolinecolor\": \"white\"}, \"yaxis\": {\"backgroundcolor\": \"#E5ECF6\", \"gridcolor\": \"white\", \"gridwidth\": 2, \"linecolor\": \"white\", \"showbackground\": true, \"ticks\": \"\", \"zerolinecolor\": \"white\"}, \"zaxis\": {\"backgroundcolor\": \"#E5ECF6\", \"gridcolor\": \"white\", \"gridwidth\": 2, \"linecolor\": \"white\", \"showbackground\": true, \"ticks\": \"\", \"zerolinecolor\": \"white\"}}, \"shapedefaults\": {\"line\": {\"color\": \"#2a3f5f\"}}, \"ternary\": {\"aaxis\": {\"gridcolor\": \"white\", \"linecolor\": \"white\", \"ticks\": \"\"}, \"baxis\": {\"gridcolor\": \"white\", \"linecolor\": \"white\", \"ticks\": \"\"}, \"bgcolor\": \"#E5ECF6\", \"caxis\": {\"gridcolor\": \"white\", \"linecolor\": \"white\", \"ticks\": \"\"}}, \"title\": {\"x\": 0.05}, \"xaxis\": {\"automargin\": true, \"gridcolor\": \"white\", \"linecolor\": \"white\", \"ticks\": \"\", \"title\": {\"standoff\": 15}, \"zerolinecolor\": \"white\", \"zerolinewidth\": 2}, \"yaxis\": {\"automargin\": true, \"gridcolor\": \"white\", \"linecolor\": \"white\", \"ticks\": \"\", \"title\": {\"standoff\": 15}, \"zerolinecolor\": \"white\", \"zerolinewidth\": 2}}}, \"title\": {\"font\": {\"color\": \"#4D5663\"}}, \"xaxis\": {\"gridcolor\": \"#E1E5ED\", \"showgrid\": true, \"tickfont\": {\"color\": \"#4D5663\"}, \"title\": {\"font\": {\"color\": \"#4D5663\"}, \"text\": \"\"}, \"zerolinecolor\": \"#E1E5ED\"}, \"yaxis\": {\"gridcolor\": \"#E1E5ED\", \"showgrid\": true, \"tickfont\": {\"color\": \"#4D5663\"}, \"title\": {\"font\": {\"color\": \"#4D5663\"}, \"text\": \"\"}, \"zerolinecolor\": \"#E1E5ED\"}},\n",
       "                        {\"responsive\": true}\n",
       "                    ).then(function(){\n",
       "                            \n",
       "var gd = document.getElementById('4c9d5714-07b7-4ad8-b2cc-eb37602e1c40');\n",
       "var x = new MutationObserver(function (mutations, observer) {{\n",
       "        var display = window.getComputedStyle(gd).display;\n",
       "        if (!display || display === 'none') {{\n",
       "            console.log([gd, 'removed!']);\n",
       "            Plotly.purge(gd);\n",
       "            observer.disconnect();\n",
       "        }}\n",
       "}});\n",
       "\n",
       "// Listen for the removal of the full notebook cells\n",
       "var notebookContainer = gd.closest('#notebook-container');\n",
       "if (notebookContainer) {{\n",
       "    x.observe(notebookContainer, {childList: true});\n",
       "}}\n",
       "\n",
       "// Listen for the clearing of the current output cell\n",
       "var outputEl = gd.closest('.output');\n",
       "if (outputEl) {{\n",
       "    x.observe(outputEl, {childList: true});\n",
       "}}\n",
       "\n",
       "                        })\n",
       "                };\n",
       "                });\n",
       "            </script>\n",
       "        </div>"
      ]
     },
     "metadata": {},
     "output_type": "display_data"
    }
   ],
   "source": [
    "fig = df[[\"loss\",\"val_loss\"]].iplot(asFigure=True, kind=\"histogram\", bins=100)\n",
    "fig.show()"
   ]
  },
  {
   "cell_type": "code",
   "execution_count": null,
   "metadata": {},
   "outputs": [],
   "source": []
  }
 ],
 "metadata": {
  "kernelspec": {
   "display_name": "Python 3",
   "language": "python",
   "name": "python3"
  },
  "language_info": {
   "codemirror_mode": {
    "name": "ipython",
    "version": 3
   },
   "file_extension": ".py",
   "mimetype": "text/x-python",
   "name": "python",
   "nbconvert_exporter": "python",
   "pygments_lexer": "ipython3",
   "version": "3.7.7"
  }
 },
 "nbformat": 4,
 "nbformat_minor": 4
}
